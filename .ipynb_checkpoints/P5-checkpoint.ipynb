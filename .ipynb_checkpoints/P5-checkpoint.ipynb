{
 "cells": [
  {
   "cell_type": "markdown",
   "metadata": {},
   "source": [
    "# Práctica 5 : Regresión lineal regularizada, sesgo y varianza"
   ]
  },
  {
   "cell_type": "code",
   "execution_count": 7,
   "metadata": {},
   "outputs": [],
   "source": [
    "import numpy as np\n",
    "import matplotlib.pyplot as plt\n",
    "from scipy.io import loadmat"
   ]
  },
  {
   "cell_type": "code",
   "execution_count": 4,
   "metadata": {},
   "outputs": [],
   "source": [
    "def normalizar(X):\n",
    "    mu = np.mean(X, axis=0)\n",
    "    sigma = np.std(X, axis=0)\n",
    "    X_norm = (X-mu)/sigma\n",
    "    return(X_norm, mu, sigma)"
   ]
  },
  {
   "cell_type": "code",
   "execution_count": 3,
   "metadata": {},
   "outputs": [],
   "source": [
    "def coste(X, Y, T):\n",
    "    H = (np.dot(X,T) - Y)**2\n",
    "    Sum = H.sum()\n",
    "    m = len(X)\n",
    "    coste = Sum/(2*m)\n",
    "    return coste"
   ]
  },
  {
   "cell_type": "code",
   "execution_count": 2,
   "metadata": {},
   "outputs": [],
   "source": [
    "def descenso_gradiente(X, Y, alpha):\n",
    "    m = np.shape(X)[1]\n",
    "    n = np.shape(X)[1]\n",
    "    T = np.zeros([m,1])\n",
    "    c = np.empty((1500,))\n",
    "    p = np.empty((1500,))\n",
    "    for i in range(1500):\n",
    "        gradiente(X, Y, T, alpha)\n",
    "        c[i] = coste_2(X, Y, T)\n",
    "    return T , c"
   ]
  },
  {
   "cell_type": "code",
   "execution_count": 1,
   "metadata": {},
   "outputs": [],
   "source": [
    "def gradiente(X, Y, T, alpha):\n",
    "    TAux = T\n",
    "    m = np.shape(X)[0]\n",
    "    n = np.shape(T)[0]\n",
    "    H = np.dot(X, T)\n",
    "    np.reshape(Y,(47,1))\n",
    "    Dif = (np.transpose(H) - Y)\n",
    "    for j in range(n):\n",
    "        Dif_j = np.dot(Dif , X[:, j])\n",
    "        TAux[j] = TAux[j] - (alpha / m) * Dif_j.sum()\n",
    "    return TAux"
   ]
  }
 ],
 "metadata": {
  "kernelspec": {
   "display_name": "Python 3",
   "language": "python",
   "name": "python3"
  },
  "language_info": {
   "codemirror_mode": {
    "name": "ipython",
    "version": 3
   },
   "file_extension": ".py",
   "mimetype": "text/x-python",
   "name": "python",
   "nbconvert_exporter": "python",
   "pygments_lexer": "ipython3",
   "version": "3.8.3"
  }
 },
 "nbformat": 4,
 "nbformat_minor": 4
}
