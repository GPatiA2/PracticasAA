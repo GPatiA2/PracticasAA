{
 "cells": [
  {
   "cell_type": "markdown",
   "metadata": {},
   "source": [
    "# Aprendizaje Automático y Big Data\n",
    "## Práctica 1 : Regresión Lineal\n",
    "\n",
    "Mario Quiñones Pérez y Guillermo García Patiño Lenza"
   ]
  },
  {
   "cell_type": "code",
   "execution_count": 21,
   "metadata": {},
   "outputs": [],
   "source": [
    "import numpy as np\n",
    "import matplotlib.pyplot as plt\n",
    "from pandas.io.parsers import read_csv\n",
    "\n",
    "datos = read_csv(\"ex1data1.csv\", header = None).astype(float).to_numpy()"
   ]
  },
  {
   "cell_type": "code",
   "execution_count": 20,
   "metadata": {},
   "outputs": [],
   "source": [
    "def cost(hipotesis, datos_X, datos_Y):\n",
    "    m = len(datos_X)\n",
    "    estimacion = hipotesis(datos_X)\n",
    "    error = estimacion - datos_Y\n",
    "    v3 = sum(error**2)\n",
    "    coste_def = (1/(2*m))*v3\n",
    "    return coste_def"
   ]
  },
  {
   "cell_type": "code",
   "execution_count": 27,
   "metadata": {},
   "outputs": [],
   "source": [
    "def calculaHipotesis(datos, alfa):\n",
    "    m = len(datos[0])\n",
    "    X = datos[:,0]\n",
    "    Y = datos[:,-1]\n",
    "    v1 = 0\n",
    "    v2 = 0\n",
    "    nuevo_v1 = 0\n",
    "    nuevo_v2 = 0\n",
    "    for i in range(1500):\n",
    "        h_temp = lambda x : (v1*x) + v2\n",
    "        print(\"Para valores \" + str(v1) + \" \" + str(v2) + \" el error es \" + str(cost(h_temp,X,Y)) + \"\\n\")\n",
    "        nuevo_v1 = v1 - (alfa*(1/m) * sum(h_temp(X) - Y))\n",
    "        nuevo_v2 = v2 - ((alfa / m) * sum((h_temp(X) - Y) * X))\n",
    "        v1 = nuevo_v1\n",
    "        v2 = nuevo_v2\n",
    "    return (v1,v2)"
   ]
  },
  {
   "cell_type": "code",
   "execution_count": 28,
   "metadata": {},
   "outputs": [],
   "source": [
    "def main1():\n",
    "    datos = read_csv(\"ex1data1.csv\", header = None).astype(float).to_numpy()\n",
    "    params = calculaHipotesis(datos, 0.01)\n",
    "    X = datos[:,0]\n",
    "    Y = datos[:,-1]\n",
    "    min_X, max_X = min(X), max(X)\n",
    "    min_Y = min_X * params[0] + params[1]\n",
    "    max_Y = max_X * params[0] + params[1]\n",
    "    plt.figure()\n",
    "    plt.plot(X,Y,\"x\")\n",
    "    plt.plot([min_X, max_X],[min_Y, max_Y])\n",
    "    plt.show()\n",
    "    plt.savefig(\"resultado.png\")"
   ]
  }
 ],
 "metadata": {
  "kernelspec": {
   "display_name": "Python 3",
   "language": "python",
   "name": "python3"
  },
  "language_info": {
   "codemirror_mode": {
    "name": "ipython",
    "version": 3
   },
   "file_extension": ".py",
   "mimetype": "text/x-python",
   "name": "python",
   "nbconvert_exporter": "python",
   "pygments_lexer": "ipython3",
   "version": "3.8.3"
  }
 },
 "nbformat": 4,
 "nbformat_minor": 4
}
