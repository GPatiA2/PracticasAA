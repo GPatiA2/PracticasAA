{
 "cells": [
  {
   "cell_type": "markdown",
   "metadata": {},
   "source": [
    "# Práctica 5 : Regresión lineal regularizada, sesgo y varianza"
   ]
  },
  {
   "cell_type": "code",
   "execution_count": 359,
   "metadata": {},
   "outputs": [],
   "source": [
    "import numpy as np\n",
    "import matplotlib.pyplot as plt\n",
    "from scipy.io import loadmat\n",
    "import scipy.optimize as opt\n",
    "from sklearn.preprocessing import PolynomialFeatures\n",
    "from sklearn.preprocessing import StandardScaler, MinMaxScaler"
   ]
  },
  {
   "cell_type": "markdown",
   "metadata": {},
   "source": [
    "## Regresión Lineal Regularizada"
   ]
  },
  {
   "cell_type": "code",
   "execution_count": 359,
   "metadata": {},
   "outputs": [],
   "source": [
    "#########\n",
    "# MUY IMPORTANTE HACER RAVEL PARA PASAR DE (12,) a (12). SI USAS (12,) HACE BROADCASTING\n",
    "########\n",
    "\n",
    "def cargaDatos(file = 'ex5data1.mat'):\n",
    "    m = loadmat(file)\n",
    "    x_train = m['X']\n",
    "    y_train = m['y'].ravel()\n",
    "    x_test = m['Xtest']\n",
    "    y_test = m['ytest'].ravel()\n",
    "    x_val = m['Xval']\n",
    "    y_val = m['yval'].ravel()\n",
    "    train = [x_train, y_train]\n",
    "    test = [x_test, y_test]\n",
    "    val = [x_val, y_val]\n",
    "    return train, test, val"
   ]
  },
  {
   "cell_type": "code",
   "execution_count": 378,
   "metadata": {},
   "outputs": [],
   "source": [
    "def coste_reg(T, X, Y, Lambda):\n",
    "    coef1 = (1/(2* X.shape[0]))\n",
    "    \n",
    "    H = np.dot(X,T)\n",
    "    D = H - Y\n",
    "    sumErs = np.sum(D**2)\n",
    "    \n",
    "    coef2 = (Lambda/(2*X.shape[0]))\n",
    "    reg = (T[1:]**2).sum()\n",
    "    \n",
    "    coste = ( coef1 * sumErs ) + ( coef2 * reg )\n",
    "    return coste"
   ]
  },
  {
   "cell_type": "code",
   "execution_count": 539,
   "metadata": {},
   "outputs": [],
   "source": [
    "def gradiente_reg(T, X, Y, Lambda):\n",
    "    H = np.dot(X,T)\n",
    "    D = H - Y\n",
    "    G = np.dot(X.T, D)\n",
    "    G = G / X.shape[0]\n",
    "    G[1:] += (T[1:] * (Lambda / X.shape[0]))\n",
    "    return G"
   ]
  },
  {
   "cell_type": "code",
   "execution_count": 534,
   "metadata": {},
   "outputs": [],
   "source": [
    "def main1():\n",
    "    tr, te, vl = cargaDatos()\n",
    "    X = tr[0]\n",
    "    Y = tr[1].ravel()\n",
    "    m = X.shape[0]\n",
    "    X = np.hstack([np.ones( [m, 1 ] ) , X ] )\n",
    "    T = np.ones((X.shape[1],))\n",
    "    grad = gradiente_reg(T,X,Y,1)\n",
    "    c = coste_reg(T,X,Y,1)\n",
    "    print(c)\n",
    "    print(grad)"
   ]
  },
  {
   "cell_type": "code",
   "execution_count": 540,
   "metadata": {},
   "outputs": [
    {
     "name": "stdout",
     "output_type": "stream",
     "text": [
      "303.9931922202643\n",
      "[-15.30301567 598.25074417]\n"
     ]
    }
   ],
   "source": [
    "main1()"
   ]
  },
  {
   "cell_type": "code",
   "execution_count": 382,
   "metadata": {},
   "outputs": [],
   "source": [
    "def costeygradienteReg(Theta,X,Y,Lambda):\n",
    "\n",
    "    Xaux = np.hstack([np.ones((X.shape[0], 1)), X])\n",
    "    coste = coste_reg(Theta,Xaux,Y,Lambda)\n",
    "    gradiente = gradiente_reg(Theta,Xaux,Y,Lambda)\n",
    "    return coste,gradiente"
   ]
  },
  {
   "cell_type": "code",
   "execution_count": 427,
   "metadata": {},
   "outputs": [],
   "source": [
    "def optimizar(X,Y,Lambda):\n",
    "    T = np.ones((X.shape[1]+1,1))\n",
    "    result = opt.minimize(costeygradienteReg,T,args=(X,Y,Lambda),method='TNC',jac=True)['x']\n",
    "    return result"
   ]
  },
  {
   "cell_type": "code",
   "execution_count": 384,
   "metadata": {},
   "outputs": [],
   "source": [
    "def main2():\n",
    "    tr, te, vl = cargaDatos()\n",
    "    X = tr[0]\n",
    "    Y = tr[1]\n",
    "    r = optimizar(X,Y,0)\n",
    "    print(r)"
   ]
  },
  {
   "cell_type": "code",
   "execution_count": 385,
   "metadata": {},
   "outputs": [
    {
     "name": "stdout",
     "output_type": "stream",
     "text": [
      "[13.08790348  0.36777923]\n"
     ]
    }
   ],
   "source": [
    "main2()"
   ]
  },
  {
   "cell_type": "code",
   "execution_count": 386,
   "metadata": {},
   "outputs": [],
   "source": [
    "def pintarDatos():\n",
    "    tr, te, vl = cargaDatos()\n",
    "    X = tr[0]\n",
    "    Y = tr[1]\n",
    "    r = optimizar(X,Y,0)\n",
    "    \n",
    "    plt.figure()\n",
    "    plt.plot(X,Y,\"x\")\n",
    "    min_x = min(X)\n",
    "    max_x = max(X)\n",
    "    min_y = r[0] + r[1] * min_x\n",
    "    max_y = r[0] + r[1] * max_x\n",
    "    plt.plot([min_x, max_x], [min_y, max_y])\n",
    "    plt.savefig(\"resultado.pdf\")"
   ]
  },
  {
   "cell_type": "code",
   "execution_count": 387,
   "metadata": {},
   "outputs": [
    {
     "data": {
      "image/png": "[encoded data removed]",
      "text/plain": [
       "<Figure size 432x288 with 1 Axes>"
      ]
     },
     "metadata": {
      "needs_background": "light"
     },
     "output_type": "display_data"
    }
   ],
   "source": [
    "pintarDatos()"
   ]
  },
  {
   "cell_type": "markdown",
   "metadata": {},
   "source": [
    "## Curvas de Aprendizaje"
   ]
  },
  {
   "cell_type": "code",
   "execution_count": 441,
   "metadata": {},
   "outputs": [],
   "source": [
    "def costeygradienteReg2(Theta,X,Y,Lambda):\n",
    "    coste = coste_reg(Theta,X,Y,Lambda)\n",
    "    gradiente = gradiente_reg(Theta,X,Y,Lambda)\n",
    "    return coste,gradiente"
   ]
  },
  {
   "cell_type": "code",
   "execution_count": 442,
   "metadata": {},
   "outputs": [],
   "source": [
    "def optimizar2(X,Y,Lambda):\n",
    "    T = np.ones((X.shape[1],)).ravel()\n",
    "    result = opt.minimize(costeygradienteReg2,T,args=(X,Y,Lambda),method='TNC',jac=True)['x']\n",
    "    return result"
   ]
  },
  {
   "cell_type": "code",
   "execution_count": 443,
   "metadata": {},
   "outputs": [],
   "source": [
    "def curvaAprendizaje():\n",
    "    tr,te,vl = cargaDatos()\n",
    "    X = tr[0]\n",
    "    Y = tr[1]\n",
    "    \n",
    "    Xval = vl[0]\n",
    "    Xval = np.hstack([np.ones((Xval.shape[0], 1)), Xval])\n",
    "    Yval = vl[1]\n",
    "    \n",
    "    erroresT = np.zeros((X.shape[0],))\n",
    "    erroresV = np.zeros((X.shape[0],))\n",
    "    ejeX = np.zeros((X.shape[0],))\n",
    "    for j in range(1,X.shape[0]):\n",
    "        ejeX[j] = j\n",
    "        Xaux = X[0:j]\n",
    "        Yaux = Y[0:j]\n",
    "        Xaux = np.hstack([np.ones((j, 1)), Xaux])\n",
    "        r = optimizar2(Xaux,Yaux,0)\n",
    "        \n",
    "        erroresT[j] += coste_reg(r,Xaux,Yaux,0)\n",
    "        erroresV[j] += coste_reg(r,Xval,Yval,0)\n",
    "    \n",
    "    plt.figure()\n",
    "    plt.plot(ejeX[1:], erroresT[1:], 'b', label = \"Entrenamiento\")\n",
    "    plt.plot(ejeX[1:], erroresV[1:], 'r', label = \"Validacion\")\n",
    "    plt.xlabel(\"Numero de ejemplos de entrenamiento\")\n",
    "    plt.ylabel(\"Error\")\n",
    "    plt.legend(loc = 0)\n",
    "    plt.show()"
   ]
  },
  {
   "cell_type": "code",
   "execution_count": 444,
   "metadata": {},
   "outputs": [
    {
     "data": {
      "image/png": "[encoded data removed]",
      "text/plain": [
       "<Figure size 432x288 with 1 Axes>"
      ]
     },
     "metadata": {
      "needs_background": "light"
     },
     "output_type": "display_data"
    }
   ],
   "source": [
    "curvaAprendizaje()"
   ]
  },
  {
   "cell_type": "markdown",
   "metadata": {},
   "source": [
    "## Regresion Polinomial"
   ]
  },
  {
   "cell_type": "code",
   "execution_count": 392,
   "metadata": {},
   "outputs": [],
   "source": [
    "def generaPolinomio(X,g):\n",
    "    p = PolynomialFeatures(g)\n",
    "    X2 = p.fit_transform(X)\n",
    "    return X2"
   ]
  },
  {
   "cell_type": "code",
   "execution_count": 393,
   "metadata": {},
   "outputs": [],
   "source": [
    "def normalizar(X):\n",
    "    mu = np.mean(X, axis=0)\n",
    "    sigma = np.std(X, axis=0)\n",
    "    X_norm = (X-mu)/sigma\n",
    "    return(X_norm, mu, sigma)"
   ]
  },
  {
   "cell_type": "code",
   "execution_count": 394,
   "metadata": {},
   "outputs": [],
   "source": [
    "def main3():\n",
    "    tr,te,vl = cargaDatos()\n",
    "    X = tr[0]\n",
    "    Y = tr[1]\n",
    "    Xpol = generaPolinomio(X,8)\n",
    "    Xpoln , mu, sigma = normalizar(Xpol[:, 1:])\n",
    "    ones = np.ones((Xpoln.shape[0],1))\n",
    "    Xpoln = np.hstack([ones, Xpoln])\n",
    "    \n",
    "    T = optimizar2(Xpoln, Y, 0)\n",
    "    \n",
    "    Xvalues = np.arange(X.min()-5 , X.max()+5, 0.05)\n",
    "    # Para pasar de 1D array a 2D array. Lo hago porque salia un error que me decía que lo hiciera\n",
    "    Xvalues = Xvalues.reshape(-1, 1)\n",
    "    Xpolvalues = generaPolinomio(Xvalues,8)\n",
    "    Xpolnvalues = (Xpolvalues[:,1:] - mu) / sigma\n",
    "    ones2 = np.ones((Xpolnvalues.shape[0], 1))\n",
    "    Xpolnvalues = np.hstack([ones2, Xpolnvalues])\n",
    "    \n",
    "    Ypolvalues  = np.dot(Xpolnvalues,T)\n",
    "    \n",
    "    ax=plt.gca()\n",
    "    ax.axis([X.min()-5,X.max()+5,Y.min()-10,Y.max()+5])\n",
    "    plt.plot(X,Y, \"x\", color = 'red')\n",
    "    plt.plot(Xvalues, Ypolvalues, '-b')"
   ]
  },
  {
   "cell_type": "code",
   "execution_count": 395,
   "metadata": {},
   "outputs": [
    {
     "data": {
      "image/png": "[encoded data removed]",
      "text/plain": [
       "<Figure size 432x288 with 1 Axes>"
      ]
     },
     "metadata": {
      "needs_background": "light"
     },
     "output_type": "display_data"
    }
   ],
   "source": [
    "main3()"
   ]
  },
  {
   "cell_type": "code",
   "execution_count": 396,
   "metadata": {},
   "outputs": [],
   "source": [
    "def normalizar2(X):\n",
    "    scaler = StandardScaler()\n",
    "    scaler.fit(X)\n",
    "    mu = scaler.mean_\n",
    "    sigma = scaler.scale_\n",
    "    Y = scaler.transform(X)\n",
    "    return Y,mu,sigma"
   ]
  },
  {
   "cell_type": "code",
   "execution_count": 397,
   "metadata": {},
   "outputs": [],
   "source": [
    "def main4():\n",
    "    tr,te,vl = cargaDatos()\n",
    "    X = tr[0]\n",
    "    Y = tr[1]\n",
    "    Xpol = generaPolinomio(X,8)\n",
    "    Xpoln , mu, sigma = normalizar2(Xpol[:, 1:])\n",
    "    ones = np.ones((Xpoln.shape[0],1))\n",
    "    Xpoln = np.hstack([ones, Xpoln])\n",
    "    \n",
    "    T = optimizar2(Xpoln, Y, 0)\n",
    "    \n",
    "    Xvalues = np.arange(X.min()-5 , X.max()+5, 0.05)\n",
    "    # Para pasar de 1D array a 2D array. Lo hago porque salia un error que me decía que lo hiciera\n",
    "    Xvalues = Xvalues.reshape(-1, 1)\n",
    "    Xpolvalues = generaPolinomio(Xvalues,8)\n",
    "    Xpolnvalues = (Xpolvalues[:,1:] - mu) / sigma\n",
    "    ones2 = np.ones((Xpolnvalues.shape[0], 1))\n",
    "    Xpolnvalues = np.hstack([ones2, Xpolnvalues])\n",
    "    \n",
    "    Ypolvalues  = np.dot(Xpolnvalues,T)\n",
    "    \n",
    "    ax=plt.gca()\n",
    "    ax.axis([X.min()-5,X.max()+5,Y.min()-10,Y.max()+5])\n",
    "    plt.plot(X,Y, \"x\", color = 'red')\n",
    "    plt.plot(Xvalues, Ypolvalues, '-b')"
   ]
  },
  {
   "cell_type": "code",
   "execution_count": 399,
   "metadata": {},
   "outputs": [
    {
     "data": {
      "image/png": "[encoded data removed]",
      "text/plain": [
       "<Figure size 432x288 with 1 Axes>"
      ]
     },
     "metadata": {
      "needs_background": "light"
     },
     "output_type": "display_data"
    }
   ],
   "source": [
    "main4()"
   ]
  },
  {
   "cell_type": "markdown",
   "metadata": {},
   "source": [
    "## Curvas de Aprendizaje"
   ]
  },
  {
   "cell_type": "code",
   "execution_count": 400,
   "metadata": {},
   "outputs": [],
   "source": [
    "def generaPolinomio(X,g):\n",
    "    p = PolynomialFeatures(g)\n",
    "    X2 = p.fit_transform(X)\n",
    "    return X2"
   ]
  },
  {
   "cell_type": "code",
   "execution_count": 515,
   "metadata": {},
   "outputs": [],
   "source": [
    "def curvaAprendizaje2(Lambda):\n",
    "    tr, test, val = cargaDatos()\n",
    "    \n",
    "    X = tr[0]\n",
    "    Y = tr[1]\n",
    "    \n",
    "    Xval = val[0]\n",
    "    Yval = val[1]\n",
    "    \n",
    "    print(X.shape)\n",
    "    print(Xval.shape)\n",
    "    \n",
    "    X = generaPolinomio(X,8)\n",
    "    X,mu,sigma = normalizar(X[:,1:])\n",
    "    ones = np.ones((X.shape[0],1))\n",
    "    X = np.hstack([ones,X])\n",
    "    \n",
    "    Xval = generaPolinomio(Xval,8)\n",
    "    Xval = (Xval[:,1:]-mu)/sigma\n",
    "    ones2 = np.ones((Xval.shape[0],1))\n",
    "    Xval = np.hstack([ones2,Xval])\n",
    "    \n",
    "    ejeX = np.arange(1, X.shape[0], 1)\n",
    "    errorT = np.zeros(X.shape[0]-1)\n",
    "    errorV = np.zeros(X.shape[0]-1)\n",
    "    \n",
    "    for j in range(1, X.shape[0]):\n",
    "        X2 = X[0:j, :]\n",
    "        Y2 = Y[0:j]\n",
    "        \n",
    "        r = optimizar2(X2,Y2,Lambda)\n",
    "        errorT[j-1] = coste_reg(r,X2,Y2,Lambda)\n",
    "        errorV[j-1] = coste_reg(r,Xval,Yval,Lambda)\n",
    "    \n",
    "    plt.plot(ejeX,errorT, 'b' , label = \"Entrenamiento\")\n",
    "    plt.plot(ejeX,errorV, 'r' , label = \"Validacion\")"
   ]
  },
  {
   "cell_type": "code",
   "execution_count": 516,
   "metadata": {},
   "outputs": [
    {
     "name": "stdout",
     "output_type": "stream",
     "text": [
      "(12, 1)\n",
      "(21, 1)\n"
     ]
    },
    {
     "data": {
      "image/png": "[encoded data removed]",
      "text/plain": [
       "<Figure size 432x288 with 1 Axes>"
      ]
     },
     "metadata": {
      "needs_background": "light"
     },
     "output_type": "display_data"
    }
   ],
   "source": [
    "curvaAprendizaje2(0)"
   ]
  },
  {
   "cell_type": "code",
   "execution_count": 519,
   "metadata": {},
   "outputs": [
    {
     "name": "stdout",
     "output_type": "stream",
     "text": [
      "(12, 1)\n",
      "(21, 1)\n"
     ]
    },
    {
     "data": {
      "image/png": "[encoded data removed]",
      "text/plain": [
       "<Figure size 432x288 with 1 Axes>"
      ]
     },
     "metadata": {
      "needs_background": "light"
     },
     "output_type": "display_data"
    }
   ],
   "source": [
    "curvaAprendizaje2(1)"
   ]
  },
  {
   "cell_type": "code",
   "execution_count": 520,
   "metadata": {},
   "outputs": [
    {
     "name": "stdout",
     "output_type": "stream",
     "text": [
      "(12, 1)\n",
      "(21, 1)\n"
     ]
    },
    {
     "data": {
      "image/png": "[encoded data removed]",
      "text/plain": [
       "<Figure size 432x288 with 1 Axes>"
      ]
     },
     "metadata": {
      "needs_background": "light"
     },
     "output_type": "display_data"
    }
   ],
   "source": [
    "curvaAprendizaje2(100)"
   ]
  },
  {
   "cell_type": "markdown",
   "metadata": {},
   "source": [
    "## Selección del Parámetro λ"
   ]
  },
  {
   "cell_type": "code",
   "execution_count": 530,
   "metadata": {},
   "outputs": [],
   "source": [
    "def pruebaLambdas(Lambdas):\n",
    "    tr, test, val = cargaDatos()\n",
    "    \n",
    "    X = tr[0]\n",
    "    Y = tr[1]\n",
    "    \n",
    "    Xval = val[0]\n",
    "    Yval = val[1]\n",
    "    \n",
    "    print(X.shape)\n",
    "    print(Xval.shape)\n",
    "    \n",
    "    X = generaPolinomio(X,8)\n",
    "    X,mu,sigma = normalizar(X[:,1:])\n",
    "    ones = np.ones((X.shape[0],1))\n",
    "    X = np.hstack([ones,X])\n",
    "    \n",
    "    Xval = generaPolinomio(Xval,8)\n",
    "    Xval = (Xval[:,1:]-mu)/sigma\n",
    "    ones2 = np.ones((Xval.shape[0],1))\n",
    "    Xval = np.hstack([ones2,Xval])\n",
    "    \n",
    "    errorT = np.zeros(Lambdas.shape[0])\n",
    "    errorV = np.zeros(Lambdas.shape[0])\n",
    "    \n",
    "    for j in range(Lambdas.shape[0]):\n",
    "        \n",
    "        r = optimizar2(X,Y,Lambdas[j])\n",
    "        errorT[j] = coste_reg(r,X,Y,Lambdas[j])\n",
    "        errorV[j] = coste_reg(r,Xval,Yval,Lambdas[j])\n",
    "        \n",
    "    return errorT, errorV"
   ]
  },
  {
   "cell_type": "code",
   "execution_count": 531,
   "metadata": {},
   "outputs": [],
   "source": [
    "def graficarErrorLambdas():\n",
    "    Lambdas = np.array([0,0.001,0.003,0.01,0.03,0.1,0.3,1,3,10])\n",
    "    errorT, errorV = pruebaLambdas(Lambdas)\n",
    "    plt.plot(Lambdas, errorT, 'b', label = 'Entrenamiento')\n",
    "    plt.plot(Lambdas, errorV, 'r', label = 'Validacion')"
   ]
  },
  {
   "cell_type": "code",
   "execution_count": 532,
   "metadata": {},
   "outputs": [
    {
     "name": "stdout",
     "output_type": "stream",
     "text": [
      "(12, 1)\n",
      "(21, 1)\n"
     ]
    },
    {
     "data": {
      "image/png": "[encoded data removed]",
      "text/plain": [
       "<Figure size 432x288 with 1 Axes>"
      ]
     },
     "metadata": {
      "needs_background": "light"
     },
     "output_type": "display_data"
    }
   ],
   "source": [
    "graficarErrorLambdas()"
   ]
  }
 ],
 "metadata": {
  "kernelspec": {
   "display_name": "Python 3",
   "language": "python",
   "name": "python3"
  },
  "language_info": {
   "codemirror_mode": {
    "name": "ipython",
    "version": 3
   },
   "file_extension": ".py",
   "mimetype": "text/x-python",
   "name": "python",
   "nbconvert_exporter": "python",
   "pygments_lexer": "ipython3",
   "version": "3.8.3"
  }
 },
 "nbformat": 4,
 "nbformat_minor": 4
}
