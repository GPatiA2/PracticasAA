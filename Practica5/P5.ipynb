{
 "cells": [
  {
   "cell_type": "markdown",
   "metadata": {},
   "source": [
    "# Práctica 5 : Regresión lineal regularizada, sesgo y varianza"
   ]
  },
  {
   "cell_type": "code",
   "execution_count": 132,
   "metadata": {},
   "outputs": [],
   "source": [
    "import numpy as np\n",
    "import matplotlib.pyplot as plt\n",
    "from scipy.io import loadmat\n",
    "import scipy.optimize as opt"
   ]
  },
  {
   "cell_type": "markdown",
   "metadata": {},
   "source": [
    "## Regresión Lineal Regularizada"
   ]
  },
  {
   "cell_type": "code",
   "execution_count": 160,
   "metadata": {},
   "outputs": [],
   "source": [
    "def cargaDatos(file = 'ex5data1.mat'):\n",
    "    m = loadmat(file)\n",
    "    x_train = m['X']\n",
    "    y_train = m['y']\n",
    "    x_test = m['Xtest']\n",
    "    y_test = m['ytest']\n",
    "    x_val = m['Xval']\n",
    "    y_val = m['yval']\n",
    "    train = [x_train, y_train]\n",
    "    test = [x_test, y_test]\n",
    "    val = [x_val, y_val]\n",
    "    return train, test, val"
   ]
  },
  {
   "cell_type": "code",
   "execution_count": 156,
   "metadata": {},
   "outputs": [],
   "source": [
    "def coste_reg(X, Y, T, Lambda):\n",
    "    H = (np.dot(X,T) - Y)**2\n",
    "    Sum = H.sum()\n",
    "    m = len(X)\n",
    "    coste = Sum/(2*m) + sum([T[i]*T[i] for i in range(1,len(T))])\n",
    "    return coste"
   ]
  },
  {
   "cell_type": "code",
   "execution_count": 161,
   "metadata": {},
   "outputs": [],
   "source": [
    "def gradiente_reg(X, Y, T, Lambda):\n",
    "    TAux = np.zeros(T.shape)\n",
    "    m = np.shape(X)[0]\n",
    "    n = np.shape(X)[1]\n",
    "    H = np.dot(X, T)\n",
    "    Dif = (H - Y)\n",
    "    for j in range(n):\n",
    "        Dif_j = np.dot(Dif , X[:, j])\n",
    "        TAux[j] = (1 / m) * Dif_j.sum() \n",
    "        if j != 0:\n",
    "            TAux[j] = TAux[j] + ((Lambda/m)*T[j] )\n",
    "    return TAux"
   ]
  },
  {
   "cell_type": "code",
   "execution_count": 166,
   "metadata": {},
   "outputs": [],
   "source": [
    "def main1():\n",
    "    tr, te, vl = cargaDatos()\n",
    "    X = tr[0]\n",
    "    Y = tr[1]\n",
    "    m = X.shape[0]\n",
    "    X = np.hstack([np.ones( [m, 1 ] ) , X ] )\n",
    "    T = np.ones(X.shape[1])\n",
    "    grad = gradiente(X,Y,T,1)\n",
    "    c = coste_reg(X,Y,T,1)\n",
    "    print(c)\n",
    "    print(grad)"
   ]
  },
  {
   "cell_type": "code",
   "execution_count": 167,
   "metadata": {},
   "outputs": [
    {
     "name": "stdout",
     "output_type": "stream",
     "text": [
      "7280.796956475271\n",
      "[ -183.63618809 10810.47091324]\n"
     ]
    }
   ],
   "source": [
    "main1()"
   ]
  },
  {
   "cell_type": "markdown",
   "metadata": {},
   "source": [
    "__Creo que el gradiente da distinto porque estoy probando con ejemplos que no son__"
   ]
  },
  {
   "cell_type": "code",
   "execution_count": 134,
   "metadata": {},
   "outputs": [],
   "source": [
    "def preparaFunciones(Lambda):\n",
    "    c = lambda Theta,X,Y : coste_reg(X,Y,Theta,Lambda)\n",
    "    gr = lambda Theta,X,Y : gradiente_reg(X,Y,Theta,Lambda)\n",
    "    \n",
    "    return (c,gr)"
   ]
  },
  {
   "cell_type": "code",
   "execution_count": 150,
   "metadata": {},
   "outputs": [],
   "source": [
    "def optimizar(X,Y,Lambda):\n",
    "    coste , gradiente = preparaFunciones(Lambda)\n",
    "    T = np.zeros(X.shape[1])\n",
    "    result = opt.fmin_tnc(func = coste, x0 = T, fprime = gradiente, args = (X, Y))\n",
    "    return result[0]"
   ]
  },
  {
   "cell_type": "code",
   "execution_count": 151,
   "metadata": {},
   "outputs": [],
   "source": [
    "def main2():\n",
    "    tr, te, vl = cargaDatos()\n",
    "    X = tr[0]\n",
    "    Y = tr[1]\n",
    "    m = X.shape[0]\n",
    "    X = np.hstack([np.ones( [m, 1 ] ) , X ] )\n",
    "    T = np.ones(X.shape[1])\n",
    "    \n",
    "    r = optimizar(X,Y,0)\n",
    "    print(r)"
   ]
  },
  {
   "cell_type": "code",
   "execution_count": 152,
   "metadata": {},
   "outputs": [
    {
     "name": "stdout",
     "output_type": "stream",
     "text": [
      "[1.12175893e+01 1.02339829e-13]\n"
     ]
    }
   ],
   "source": [
    "main2()"
   ]
  }
 ],
 "metadata": {
  "kernelspec": {
   "display_name": "Python 3",
   "language": "python",
   "name": "python3"
  },
  "language_info": {
   "codemirror_mode": {
    "name": "ipython",
    "version": 3
   },
   "file_extension": ".py",
   "mimetype": "text/x-python",
   "name": "python",
   "nbconvert_exporter": "python",
   "pygments_lexer": "ipython3",
   "version": "3.8.3"
  }
 },
 "nbformat": 4,
 "nbformat_minor": 4
}
