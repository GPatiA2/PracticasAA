{
 "cells": [
  {
   "cell_type": "markdown",
   "metadata": {},
   "source": [
    "# Práctica 5 : Regresión lineal regularizada, sesgo y varianza"
   ]
  },
  {
   "cell_type": "code",
   "execution_count": 6,
   "metadata": {},
   "outputs": [],
   "source": [
    "import numpy as np\n",
    "import matplotlib.pyplot as plt\n",
    "from scipy.io import loadmat\n",
    "import scipy.optimize as opt"
   ]
  },
  {
   "cell_type": "markdown",
   "metadata": {},
   "source": [
    "## Regresión Lineal Regularizada"
   ]
  },
  {
   "cell_type": "code",
   "execution_count": 359,
   "metadata": {},
   "outputs": [],
   "source": [
    "#########\n",
    "# MUY IMPORTANTE HACER RAVEL PARA PASAR DE (12,) a (12). SI USAS (12,) HACE BROADCASTING\n",
    "########\n",
    "\n",
    "def cargaDatos(file = 'ex5data1.mat'):\n",
    "    m = loadmat(file)\n",
    "    x_train = m['X']\n",
    "    y_train = m['y'].ravel()\n",
    "    x_test = m['Xtest']\n",
    "    y_test = m['ytest'].ravel()\n",
    "    x_val = m['Xval']\n",
    "    y_val = m['yval'].ravel()\n",
    "    train = [x_train, y_train]\n",
    "    test = [x_test, y_test]\n",
    "    val = [x_val, y_val]\n",
    "    return train, test, val"
   ]
  },
  {
   "cell_type": "code",
   "execution_count": 158,
   "metadata": {},
   "outputs": [],
   "source": [
    "def coste_reg(T, X, Y, Lambda):\n",
    "    coste = (1/(2* X.shape[0]))* ((np.dot(X,T)-Y)**2).sum() + (Lambda/(2*X.shape[0])) / (T[1:]**2).sum()\n",
    "    return coste"
   ]
  },
  {
   "cell_type": "code",
   "execution_count": 343,
   "metadata": {},
   "outputs": [],
   "source": [
    "def gradiente_reg(T, X, Y, Lambda):\n",
    "    H = np.dot(X,T)\n",
    "    D = H - Y\n",
    "    G = np.dot(X.T, D)\n",
    "    G = G / X.shape[0]\n",
    "    G[1:] += (T[1:] * (Lambda / X.shape[0]))\n",
    "    return G"
   ]
  },
  {
   "cell_type": "code",
   "execution_count": 344,
   "metadata": {},
   "outputs": [],
   "source": [
    "def main1():\n",
    "    tr, te, vl = cargaDatos()\n",
    "    X = tr[0]\n",
    "    Y = tr[1].ravel()\n",
    "    m = X.shape[0]\n",
    "    X = np.hstack([np.ones( [m, 1 ] ) , X ] )\n",
    "    T = np.ones((X.shape[1],))\n",
    "    grad = gradiente_reg(T,X,Y,1)\n",
    "    c = coste_reg(T,X,Y,1)\n",
    "    print(c)\n",
    "    print(grad)"
   ]
  },
  {
   "cell_type": "code",
   "execution_count": 345,
   "metadata": {},
   "outputs": [
    {
     "name": "stdout",
     "output_type": "stream",
     "text": [
      "303.9931922202643\n",
      "[-15.30301567 598.25074417]\n"
     ]
    }
   ],
   "source": [
    "main1()"
   ]
  },
  {
   "cell_type": "code",
   "execution_count": 346,
   "metadata": {},
   "outputs": [],
   "source": [
    "def costeygradienteReg(Theta,X,Y,Lambda):\n",
    "\n",
    "    Xaux = np.hstack([np.ones((X.shape[0], 1)), X])\n",
    "    coste = coste_reg(Theta,Xaux,Y,Lambda)\n",
    "    gradiente = gradiente_reg(Theta,Xaux,Y,Lambda)\n",
    "    return coste,gradiente"
   ]
  },
  {
   "cell_type": "code",
   "execution_count": 347,
   "metadata": {},
   "outputs": [],
   "source": [
    "def optimizar(X,Y,Lambda):\n",
    "    T = np.ones((X.shape[1]+1,))\n",
    "    result = opt.minimize(costeygradienteReg,T,args=(X,Y,Lambda),method='TNC',jac=True)['x']\n",
    "    return result"
   ]
  },
  {
   "cell_type": "code",
   "execution_count": 351,
   "metadata": {},
   "outputs": [],
   "source": [
    "def main2():\n",
    "    tr, te, vl = cargaDatos()\n",
    "    X = tr[0]\n",
    "    Y = tr[1]\n",
    "    r = optimizar(X,Y,0)\n",
    "    print(r)"
   ]
  },
  {
   "cell_type": "code",
   "execution_count": 352,
   "metadata": {},
   "outputs": [
    {
     "name": "stdout",
     "output_type": "stream",
     "text": [
      "[13.08790348  0.36777923]\n"
     ]
    }
   ],
   "source": [
    "main2()"
   ]
  },
  {
   "cell_type": "code",
   "execution_count": 357,
   "metadata": {},
   "outputs": [],
   "source": [
    "def pintarDatos():\n",
    "    tr, te, vl = cargaDatos()\n",
    "    X = tr[0]\n",
    "    Y = tr[1]\n",
    "    r = optimizar(X,Y,0)\n",
    "    \n",
    "    plt.figure()\n",
    "    plt.plot(X,Y,\"x\")\n",
    "    min_x = min(X)\n",
    "    max_x = max(X)\n",
    "    min_y = r[0] + r[1] * min_x\n",
    "    max_y = r[0] + r[1] * max_x\n",
    "    plt.plot([min_x, max_x], [min_y, max_y])\n",
    "    plt.savefig(\"resultado.pdf\")"
   ]
  },
  {
   "cell_type": "code",
   "execution_count": 358,
   "metadata": {},
   "outputs": [
    {
     "data": {
      "image/png": "[encoded data removed]",
      "text/plain": [
       "<Figure size 432x288 with 1 Axes>"
      ]
     },
     "metadata": {
      "needs_background": "light"
     },
     "output_type": "display_data"
    }
   ],
   "source": [
    "pintarDatos()"
   ]
  },
  {
   "cell_type": "markdown",
   "metadata": {},
   "source": [
    "## Curvas de Aprendizaje"
   ]
  },
  {
   "cell_type": "code",
   "execution_count": 390,
   "metadata": {},
   "outputs": [],
   "source": [
    "def curvaAprendizaje():\n",
    "    tr,te,vl = cargaDatos()\n",
    "    X = tr[0]\n",
    "    Y = tr[1]\n",
    "    \n",
    "    Xval = vl[0]\n",
    "    Xval = np.hstack([np.ones((Xval.shape[0], 1)), Xval])\n",
    "    Yval = vl[1]\n",
    "    \n",
    "    erroresT = np.zeros((X.shape[0],))\n",
    "    erroresV = np.zeros((X.shape[0],))\n",
    "    ejeX = np.zeros((X.shape[0],))\n",
    "    for j in range(1,X.shape[0]):\n",
    "        ejeX[j] = j\n",
    "        Xaux = X[0:j]\n",
    "        Yaux = Y[0:j]\n",
    "        r = optimizar(Xaux,Yaux,0)\n",
    "        Xaux2 = np.hstack([np.ones((j, 1)), Xaux])\n",
    "        erroresT[j] += (1/(2*j)) * ((np.dot(Xaux2,r) - Yaux)**2).sum()\n",
    "        erroresV[j] += (1/(2*j)) * ((np.dot(Xval,r) - Yval)**2).sum()\n",
    "    \n",
    "    plt.figure()\n",
    "    plt.plot(ejeX[1:], erroresT[1:], 'b', label = \"Entrenamiento\")\n",
    "    plt.plot(ejeX[1:], erroresV[1:], 'r', label = \"Validacion\")\n",
    "    plt.xlabel(\"Numero de ejemplos de entrenamiento\")\n",
    "    plt.ylabel(\"Error\")\n",
    "    plt.legend(loc = 0)\n",
    "    plt.show()"
   ]
  },
  {
   "cell_type": "code",
   "execution_count": 391,
   "metadata": {},
   "outputs": [
    {
     "data": {
      "image/png": "[encoded data removed]",
      "text/plain": [
       "<Figure size 432x288 with 1 Axes>"
      ]
     },
     "metadata": {
      "needs_background": "light"
     },
     "output_type": "display_data"
    }
   ],
   "source": [
    "curvaAprendizaje()"
   ]
  }
 ],
 "metadata": {
  "kernelspec": {
   "display_name": "Python 3",
   "language": "python",
   "name": "python3"
  },
  "language_info": {
   "codemirror_mode": {
    "name": "ipython",
    "version": 3
   },
   "file_extension": ".py",
   "mimetype": "text/x-python",
   "name": "python",
   "nbconvert_exporter": "python",
   "pygments_lexer": "ipython3",
   "version": "3.8.3"
  }
 },
 "nbformat": 4,
 "nbformat_minor": 4
}
