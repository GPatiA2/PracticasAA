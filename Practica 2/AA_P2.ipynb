{
 "cells": [
  {
   "cell_type": "markdown",
   "metadata": {},
   "source": [
    "# Aprendizaje Automático y Big Data\n",
    "## Práctica 2 : Regresión Logistica\n",
    "\n",
    "Guillermo García Patiño Lenza y Mario Quiñones Pérez \n",
    "\n",
    "\n",
    "### PARTE 1\n",
    "### Regresión logística\n",
    "### 1.1. Visualización de los datos"
   ]
  },
  {
   "cell_type": "code",
   "execution_count": 232,
   "metadata": {},
   "outputs": [],
   "source": [
    "import numpy as np\n",
    "from pandas.io.parsers import read_csv\n",
    "import matplotlib.pyplot as plt\n",
    "from matplotlib import cm\n",
    "from matplotlib.ticker import LinearLocator, FormatStrFormatter\n",
    "from mpl_toolkits.mplot3d import Axes3D\n",
    "import scipy.optimize as opt\n",
    "\n",
    "def carga_csv(file_name):\n",
    "    valores = read_csv(file_name, header=None).to_numpy()\n",
    "    return valores.astype(float)"
   ]
  },
  {
   "cell_type": "markdown",
   "metadata": {},
   "source": [
    "### 1.1. Visualización de los datos"
   ]
  },
  {
   "cell_type": "code",
   "execution_count": 328,
   "metadata": {},
   "outputs": [],
   "source": [
    "def draw_graph(file_name, labels = ['y = 1', 'y = 0']):\n",
    "    datos = carga_csv(file_name)\n",
    "    X = datos[:,:-1]\n",
    "    Y = datos[:,-1]\n",
    "    \n",
    "    # Obtiene un vector con los índices de los ejemplos positivos\n",
    "    pos = np.where (Y == 1)\n",
    "    posn = np.where (Y == 0)\n",
    "\n",
    "    # Dibuja los ejemplos positivos\n",
    "    plt.scatter(X[pos, 0], X[pos, 1], marker='+', c='k', label = labels[0])\n",
    "    plt.scatter(X[posn, 0], X[posn, 1], marker='o', c='y', label = labels[1])\n",
    "    plt.legend(loc='upper right')\n",
    "    plt.show()"
   ]
  },
  {
   "cell_type": "code",
   "execution_count": 329,
   "metadata": {},
   "outputs": [
    {
     "data": {
      "image/png": "[encoded data removed]",
      "text/plain": [
       "<Figure size 432x288 with 1 Axes>"
      ]
     },
     "metadata": {
      "needs_background": "light"
     },
     "output_type": "display_data"
    }
   ],
   "source": [
    "draw_graph(\"ex2data1.csv\", ['Admited', 'Not admited'])"
   ]
  },
  {
   "cell_type": "markdown",
   "metadata": {},
   "source": [
    "### 1.2. Función sigmoide"
   ]
  },
  {
   "cell_type": "code",
   "execution_count": 23,
   "metadata": {},
   "outputs": [],
   "source": [
    "def sigmoide(Z):\n",
    "    denominador = 1 + np.exp(Z)\n",
    "    return (1/denominador)"
   ]
  },
  {
   "cell_type": "markdown",
   "metadata": {},
   "source": [
    "### 1.3. Cálculo de la función de coste y su gradiente"
   ]
  },
  {
   "cell_type": "code",
   "execution_count": 314,
   "metadata": {},
   "outputs": [],
   "source": [
    "def coste_logistico(T, X, Y):\n",
    "    G = sigmoide(np.matmul(X, T))\n",
    "    #falla porq G es todo unos no se muy bien porq\n",
    "    coste = (- 1 / (len(X))) * (np.dot(Y, np.log(G)) + np.dot((1 - Y), np.log(1 - G)))\n",
    "    return coste"
   ]
  },
  {
   "cell_type": "code",
   "execution_count": 309,
   "metadata": {},
   "outputs": [],
   "source": [
    "def gradiente_logistico(T, X, Y):\n",
    "    m = len(Y)\n",
    "    G = sigmoide(np.matmul(X, T))\n",
    "    Dif = (np.transpose(G) - Y)\n",
    "    gradiente = (1/m)*np.dot(Dif, X)\n",
    "    return gradiente"
   ]
  },
  {
   "cell_type": "code",
   "execution_count": 310,
   "metadata": {},
   "outputs": [],
   "source": [
    "def descenso_gradiente(X, Y):\n",
    "    n = len(Y)\n",
    "    X_2 = np.hstack([np.ones([n,1]), X] )\n",
    "    m = np.shape(X_2)[1]\n",
    "    T = np.zeros([m,1])\n",
    "    T = gradiente_logistico(T, X_2, Y)\n",
    "    c = coste_logistico(T[0], X_2, Y)\n",
    "    return T[0] , c"
   ]
  },
  {
   "cell_type": "code",
   "execution_count": 313,
   "metadata": {},
   "outputs": [
    {
     "name": "stdout",
     "output_type": "stream",
     "text": [
      "[ -0.1        -12.00921659 -11.26284221] nan\n"
     ]
    },
    {
     "name": "stderr",
     "output_type": "stream",
     "text": [
      "<ipython-input-312-41a229fc9dc5>:3: RuntimeWarning: divide by zero encountered in log\n",
      "  coste = (- 1 / (len(X))) * (np.dot(Y, np.log(G)) + np.dot((1 - Y), np.log(1 - G)))\n"
     ]
    }
   ],
   "source": [
    "def main2():\n",
    "    datos = carga_csv(\"ex2data1.csv\")\n",
    "    X = datos[:,:-1]\n",
    "    Y = datos[:,-1]\n",
    "    P , c = descenso_gradiente(X,Y)\n",
    "    print(P, c)\n",
    "    \n",
    "main2()"
   ]
  },
  {
   "cell_type": "markdown",
   "metadata": {},
   "source": [
    "### 1.4. Cálculo del valor óptimo de los parámetros"
   ]
  },
  {
   "cell_type": "code",
   "execution_count": 236,
   "metadata": {},
   "outputs": [],
   "source": [
    "def optimiza():\n",
    "    datos = carga_csv(\"ex2data1.csv\")\n",
    "    X = datos[:,:-1]\n",
    "    Y = datos[:,-1]\n",
    "    m = np.shape(X)[1]\n",
    "    T = np.zeros([m,1])\n",
    "    result = opt.fmin_tnc(func=coste_logistico, x0=T, fprime = gradiente_logistico,args=(X, Y))\n",
    "    theta_opt = result[0]"
   ]
  },
  {
   "cell_type": "code",
   "execution_count": 315,
   "metadata": {},
   "outputs": [],
   "source": [
    "optimiza()"
   ]
  },
  {
   "cell_type": "markdown",
   "metadata": {},
   "source": [
    "### 1.5. Evaluación de la regresión logística"
   ]
  },
  {
   "cell_type": "code",
   "execution_count": null,
   "metadata": {},
   "outputs": [],
   "source": []
  },
  {
   "cell_type": "markdown",
   "metadata": {},
   "source": [
    "### PARTE 2\n",
    "### Regresión logística regularizada\n",
    "### 1.1. Visualización de los datos"
   ]
  },
  {
   "cell_type": "code",
   "execution_count": 330,
   "metadata": {},
   "outputs": [
    {
     "data": {
      "image/png": "[encoded data removed]",
      "text/plain": [
       "<Figure size 432x288 with 1 Axes>"
      ]
     },
     "metadata": {
      "needs_background": "light"
     },
     "output_type": "display_data"
    }
   ],
   "source": [
    "draw_graph(\"ex2data2.csv\")"
   ]
  },
  {
   "cell_type": "code",
   "execution_count": null,
   "metadata": {},
   "outputs": [],
   "source": []
  }
 ],
 "metadata": {
  "kernelspec": {
   "display_name": "Python 3",
   "language": "python",
   "name": "python3"
  },
  "language_info": {
   "codemirror_mode": {
    "name": "ipython",
    "version": 3
   },
   "file_extension": ".py",
   "mimetype": "text/x-python",
   "name": "python",
   "nbconvert_exporter": "python",
   "pygments_lexer": "ipython3",
   "version": "3.8.3"
  }
 },
 "nbformat": 4,
 "nbformat_minor": 4
}
