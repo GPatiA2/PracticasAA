{
 "cells": [
  {
   "cell_type": "markdown",
   "metadata": {},
   "source": [
    "# Práctica 2 : Regresión Logística"
   ]
  },
  {
   "cell_type": "markdown",
   "metadata": {},
   "source": [
    "Guillermo García Patiño Lenza y Mario Quiñones Pérez"
   ]
  },
  {
   "cell_type": "code",
   "execution_count": 2,
   "metadata": {},
   "outputs": [],
   "source": [
    "import numpy as np\n",
    "from pandas.io.parsers import read_csv\n",
    "import matplotlib.pyplot as plt\n",
    "from matplotlib import cm\n",
    "from matplotlib.ticker import LinearLocator, FormatStrFormatter\n",
    "from mpl_toolkits.mplot3d import Axes3D\n",
    "import scipy.optimize as opt"
   ]
  },
  {
   "cell_type": "markdown",
   "metadata": {},
   "source": [
    "## Parte 1:"
   ]
  },
  {
   "cell_type": "markdown",
   "metadata": {},
   "source": [
    "### Carga y visualización de los datos"
   ]
  },
  {
   "cell_type": "code",
   "execution_count": 3,
   "metadata": {},
   "outputs": [],
   "source": [
    "def cargaDatos(fichero):\n",
    "    datos = read_csv(fichero, header = None).to_numpy()\n",
    "    return datos.astype(float)"
   ]
  },
  {
   "cell_type": "code",
   "execution_count": 4,
   "metadata": {},
   "outputs": [],
   "source": [
    "def crearGrafica(datos, labels = ['y = 1', 'y = 0']):\n",
    "    X = datos[:,:-1]\n",
    "    Y = datos[:,-1]\n",
    "    \n",
    "    c1 = np.where(Y == 1)\n",
    "    c2 = np.where(Y == 0)\n",
    "    \n",
    "    plt.scatter(X[c1,0], X[c1,1] , marker = '+', c = 'k', label = labels[0])\n",
    "    plt.scatter(X[c2,0], X[c2,1], marker = 'o', c = 'y', label = labels[1])\n",
    "    plt.legend(loc = 'upper right')\n",
    "    plt.show()"
   ]
  },
  {
   "cell_type": "code",
   "execution_count": 8,
   "metadata": {},
   "outputs": [
    {
     "data": {
      "image/png": "[encoded data removed]",
      "text/plain": [
       "<Figure size 432x288 with 1 Axes>"
      ]
     },
     "metadata": {
      "needs_background": "light"
     },
     "output_type": "display_data"
    }
   ],
   "source": [
    "crearGrafica(cargaDatos(\"ex2data1.csv\"), ['Admited', 'Not admited'])"
   ]
  },
  {
   "cell_type": "markdown",
   "metadata": {},
   "source": [
    "### Funcion Sigmoide"
   ]
  },
  {
   "cell_type": "code",
   "execution_count": 5,
   "metadata": {},
   "outputs": [],
   "source": [
    "def sigmoide(Z):\n",
    "    sigmoide = 1 / (1 + np.exp(-Z))\n",
    "    return sigmoide"
   ]
  },
  {
   "cell_type": "markdown",
   "metadata": {},
   "source": [
    "### Cálculo de la función de coste y gradiente"
   ]
  },
  {
   "cell_type": "code",
   "execution_count": 6,
   "metadata": {},
   "outputs": [],
   "source": [
    "def normalizar(X):\n",
    "    mu = np.mean(X, axis=0)\n",
    "    sigma = np.std(X, axis=0)\n",
    "    X_norm = (X-mu)/sigma\n",
    "    return(X_norm, mu, sigma)"
   ]
  },
  {
   "cell_type": "code",
   "execution_count": 20,
   "metadata": {},
   "outputs": [],
   "source": [
    "def coste(Theta, X, Y):\n",
    "    G = sigmoide(np.dot(X, Theta))\n",
    "    sum1 = np.dot(Y, np.log(G))\n",
    "    sum2 = np.dot((1-Y), np.log(1 - G))\n",
    "    return (-1 / X.shape[0]) * (sum1 + sum2)"
   ]
  },
  {
   "cell_type": "code",
   "execution_count": 21,
   "metadata": {},
   "outputs": [],
   "source": [
    "def gradiente(Theta, X, Y):\n",
    "    m = X.shape[0]\n",
    "    G = sigmoide( np.matmul(X,Theta) )\n",
    "    gradiente  = (1 / len(Y)) * np.matmul(X.T, G - Y)\n",
    "    return gradiente"
   ]
  },
  {
   "cell_type": "code",
   "execution_count": 22,
   "metadata": {},
   "outputs": [],
   "source": [
    "def prueba():\n",
    "    datos = cargaDatos(\"ex2data1.csv\")\n",
    "    X = datos[:,:-1]\n",
    "    Y = datos[:,-1]\n",
    "    n = len(Y)\n",
    "    \n",
    "    X2,mu,sigma = normalizar(X)\n",
    "    X2 = np.hstack([np.ones([n,1]), X2])\n",
    "    \n",
    "    c = coste(np.zeros(X2.shape[1]), X2, Y)\n",
    "    gr = gradiente(np.zeros(X2.shape[1]),X2,Y)\n",
    "    print(gr)\n",
    "    print(c)"
   ]
  },
  {
   "cell_type": "code",
   "execution_count": 31,
   "metadata": {},
   "outputs": [
    {
     "name": "stdout",
     "output_type": "stream",
     "text": [
      "[-0.1        -0.28122914 -0.25098615]\n",
      "0.6931471805599452\n"
     ]
    }
   ],
   "source": [
    "prueba()"
   ]
  },
  {
   "cell_type": "markdown",
   "metadata": {},
   "source": [
    "### Cálculo del valor óptimo de los parámetros"
   ]
  },
  {
   "cell_type": "code",
   "execution_count": 65,
   "metadata": {},
   "outputs": [],
   "source": [
    "def optimiza(datos = cargaDatos(\"ex2data1.csv\")):\n",
    "    X = datos[:,:-1]\n",
    "    Y = datos[:,-1]\n",
    "    m = X.shape[0]\n",
    "    n = len(Y)\n",
    "    \n",
    "    X_n, mu, sigma = normalizar(X)\n",
    "    \n",
    "    X_n = np.hstack([np.ones([n,1]), X_n])\n",
    "    T = np.zeros(X.shape[1]+1)\n",
    "\n",
    "    result = opt.fmin_tnc(func = coste, x0 = T, fprime = gradiente, args = (X_n, Y))\n",
    "    c_f = coste(result[0], X_n, Y )\n",
    "    print(c_f)\n",
    "    print(result[0])\n",
    "    return result[0]"
   ]
  },
  {
   "cell_type": "code",
   "execution_count": 66,
   "metadata": {},
   "outputs": [
    {
     "name": "stdout",
     "output_type": "stream",
     "text": [
      "0.20349771564637412\n",
      "[1.71787865 3.99150585 3.72363973]\n"
     ]
    },
    {
     "data": {
      "text/plain": [
       "array([1.71787865, 3.99150585, 3.72363973])"
      ]
     },
     "execution_count": 66,
     "metadata": {},
     "output_type": "execute_result"
    }
   ],
   "source": [
    "optimiza()\n"
   ]
  },
  {
   "cell_type": "code",
   "execution_count": 60,
   "metadata": {},
   "outputs": [],
   "source": [
    "def crearGraficaConFrontera(datos, Theta, labels = ['y = 1', 'y = 0']):\n",
    "    X = datos[:,:-1]\n",
    "    Y = datos[:,-1]\n",
    "    \n",
    "    c1 = np.where(Y == 1)\n",
    "    c2 = np.where(Y == 0)\n",
    "    \n",
    "    plt.scatter(X[c1,0], X[c1,1] , marker = '+', c = 'k', label = labels[0])\n",
    "    plt.scatter(X[c2,0], X[c2,1], marker = 'o', c = 'y', label = labels[1])\n",
    "    plt.legend(loc = 'upper right')\n",
    "    \n",
    "    \n",
    "    "
   ]
  },
  {
   "cell_type": "code",
   "execution_count": 64,
   "metadata": {},
   "outputs": [
    {
     "name": "stdout",
     "output_type": "stream",
     "text": [
      "0.20349771564637412\n",
      "[1.71787865 3.99150585 3.72363973]\n"
     ]
    },
    {
     "data": {
      "image/png": "[encoded data removed]",
      "text/plain": [
       "<Figure size 432x288 with 1 Axes>"
      ]
     },
     "metadata": {
      "needs_background": "light"
     },
     "output_type": "display_data"
    }
   ],
   "source": [
    "crearGraficaConFrontera(cargaDatos(\"ex2data1.csv\"),optimiza(),['Admited', 'Not admited'])"
   ]
  },
  {
   "cell_type": "code",
   "execution_count": 131,
   "metadata": {},
   "outputs": [],
   "source": [
    "\n",
    "# no entiendo por qué esto no va XDDDDDDDD\n",
    "\n",
    "def pinta_frontera_recta(datos, theta):    \n",
    "    \n",
    "    X = datos[:,:-1]\n",
    "    Y = datos[:,-1]\n",
    "    \n",
    "    plt.figure() \n",
    "    x1_min, x1_max = X[:, 0].min(), X[:, 0].max()\n",
    "    x2_min, x2_max = X[:, 1].min(), X[:, 1].max()    \n",
    "    xx1, xx2 = np.meshgrid(np.linspace(x1_min, x1_max), np.linspace(x2_min, x2_max))   \n",
    "    h = sigmoide(np.c_[np.ones((xx1.ravel().shape[0], 1)), xx1.ravel(), xx2.ravel()].dot(theta))   \n",
    "    h = h.reshape(xx1.shape)    \n",
    "    # el cuarto parámetro es el valor de z cuya frontera se    \n",
    "    # quiere pintar    \n",
    "    plt.contour(xx1, xx2, h, [0.5], linewidths=1, colors='b')    \n",
    "    plt.savefig(\"frontera.pdf\")    \n",
    "    plt.close()"
   ]
  },
  {
   "cell_type": "code",
   "execution_count": 63,
   "metadata": {},
   "outputs": [
    {
     "name": "stdout",
     "output_type": "stream",
     "text": [
      "0.20349771564637412\n",
      "[1.71787865 3.99150585 3.72363973]\n"
     ]
    },
    {
     "name": "stderr",
     "output_type": "stream",
     "text": [
      "<ipython-input-62-2b9b0964198e>:14: UserWarning: No contour levels were found within the data range.\n",
      "  plt.contour(xx1, xx2, h, [0.5], linewidths=1, colors='b')\n"
     ]
    }
   ],
   "source": [
    "pinta_frontera_recta(cargaDatos(\"ex2data1.csv\"),optimiza())"
   ]
  },
  {
   "cell_type": "markdown",
   "metadata": {},
   "source": [
    "### Evaluación de la regresión"
   ]
  },
  {
   "cell_type": "code",
   "execution_count": 120,
   "metadata": {},
   "outputs": [],
   "source": [
    "def evalua(datos, parte_entrenamiento):\n",
    "    f = round(len(datos) * parte_entrenamiento / 100)\n",
    "    datos_ent = datos[:f]\n",
    "    datos_eva = datos[f:]\n",
    "    \n",
    "    theta = optimiza(datos_ent)\n",
    "    \n",
    "    dat_ev_x = datos_eva[:,:-1]\n",
    "    dat_ev_y = datos_eva[:,-1]\n",
    "    \n",
    "    dat_ev_x_n, mu, sigma = normalizar(dat_ev_x)\n",
    "    dat_ev_x_n = np.hstack([np.ones([len(datos_eva),1]), dat_ev_x_n])\n",
    "    \n",
    "    res_eva = np.dot(dat_ev_x_n, theta)\n",
    "    res_eva_m = [] \n",
    "    for e in map(lambda x : 1 if x >= 0.5 else 0, res_eva):\n",
    "        res_eva_m.append(e)\n",
    "        \n",
    "    iguales = filter(lambda x : dat_ev_y[res_eva_m.index(x)] == x , res_eva_m)\n",
    "    \n",
    "    i = 0;\n",
    "    for e in iguales:\n",
    "        i = i+1\n",
    "    \n",
    "    print(\"Se ha predicho correctamente el resultado un {}% de las veces\".format(i/len(datos_eva) * 100))\n",
    "    \n",
    "    return (i/len(datos_eva)*100)"
   ]
  },
  {
   "cell_type": "code",
   "execution_count": 121,
   "metadata": {},
   "outputs": [
    {
     "name": "stdout",
     "output_type": "stream",
     "text": [
      "0.19456570964463282\n",
      "[0.63167769 4.1627765  3.60606696]\n",
      "Se ha predicho correctamente el resultado un 48.0% de las veces\n"
     ]
    },
    {
     "data": {
      "text/plain": [
       "48.0"
      ]
     },
     "execution_count": 121,
     "metadata": {},
     "output_type": "execute_result"
    }
   ],
   "source": [
    "evalua(cargaDatos(\"ex2data1.csv\"), 75)"
   ]
  }
 ],
 "metadata": {
  "kernelspec": {
   "display_name": "Python 3",
   "language": "python",
   "name": "python3"
  },
  "language_info": {
   "codemirror_mode": {
    "name": "ipython",
    "version": 3
   },
   "file_extension": ".py",
   "mimetype": "text/x-python",
   "name": "python",
   "nbconvert_exporter": "python",
   "pygments_lexer": "ipython3",
   "version": "3.8.3"
  }
 },
 "nbformat": 4,
 "nbformat_minor": 4
}
