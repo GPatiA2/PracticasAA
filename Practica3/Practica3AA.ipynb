{
 "cells": [
  {
   "cell_type": "markdown",
   "metadata": {},
   "source": [
    "# Práctica 3 : Regresión logística multi-clase y redes neuronales"
   ]
  },
  {
   "cell_type": "markdown",
   "metadata": {},
   "source": [
    "Guillermo García Patiño Lenza y Mario Quiñones Pérez"
   ]
  },
  {
   "cell_type": "code",
   "execution_count": 224,
   "metadata": {},
   "outputs": [],
   "source": [
    "import numpy as np\n",
    "from pandas.io.parsers import read_csv\n",
    "import matplotlib.pyplot as plt\n",
    "from matplotlib import cm\n",
    "from matplotlib.ticker import LinearLocator, FormatStrFormatter\n",
    "from mpl_toolkits.mplot3d import Axes3D\n",
    "import scipy.optimize as opt\n",
    "from scipy.io import loadmat"
   ]
  },
  {
   "cell_type": "markdown",
   "metadata": {},
   "source": [
    "## Parte 1: Regresión logística multi-clase"
   ]
  },
  {
   "cell_type": "markdown",
   "metadata": {},
   "source": [
    "### Carga y visualización de los datos"
   ]
  },
  {
   "cell_type": "code",
   "execution_count": 225,
   "metadata": {},
   "outputs": [],
   "source": [
    "def cargaDatos(fichero):\n",
    "    datos = loadmat(fichero)\n",
    "    return datos"
   ]
  },
  {
   "cell_type": "code",
   "execution_count": 226,
   "metadata": {},
   "outputs": [],
   "source": [
    "def mostrarNdatos(datos, N = 10):\n",
    "    X = datos['X'] \n",
    "    Y = datos['y']\n",
    "    \n",
    "    sample = np.random.choice(X.shape[0], 10)\n",
    "    plt.imshow(X[sample, :].reshape(-1,20).T)\n",
    "    plt.axis('off')"
   ]
  },
  {
   "cell_type": "code",
   "execution_count": 227,
   "metadata": {},
   "outputs": [
    {
     "data": {
      "image/png": "[encoded data removed]",
      "text/plain": [
       "<Figure size 432x288 with 1 Axes>"
      ]
     },
     "metadata": {
      "needs_background": "light"
     },
     "output_type": "display_data"
    }
   ],
   "source": [
    "mostrarNdatos(cargaDatos(\"ex3data1.mat\"), 10)"
   ]
  },
  {
   "cell_type": "markdown",
   "metadata": {},
   "source": [
    "### Clasificación de uno frente a todos"
   ]
  },
  {
   "cell_type": "code",
   "execution_count": 228,
   "metadata": {},
   "outputs": [],
   "source": [
    "def oneVsAll (X, y, num_etiquetas, reg):\n",
    "    \"\"\"\n",
    "    oneVsAll entrena varios clasificadores por regresión logística con término\n",
    "    de regularización 'reg' y devuelve el resultado en una matriz , donde\n",
    "    la fila i−ésima corresponde al clasificador de la etiqueta i−ésima\n",
    "    \"\"\"\n",
    "    \n",
    "    Theta = list()\n",
    "    coste = list()\n",
    "    \n",
    "    for i in range(1,num_etiquetas+1):\n",
    "        aux = (y == i) * 1\n",
    "        gr = optimiza_reg(X, aux, reg)\n",
    "        \n",
    "        Theta.append(gr)\n",
    "        \n",
    "    print(Theta)"
   ]
  },
  {
   "cell_type": "code",
   "execution_count": 246,
   "metadata": {},
   "outputs": [],
   "source": [
    "def prueba():\n",
    "    datos = cargaDatos(\"ex3data1.mat\")\n",
    "    X = datos['X'] \n",
    "    y = datos['y']\n",
    "    \n",
    "    oneVsAll (X, y, 1, 1)"
   ]
  },
  {
   "cell_type": "code",
   "execution_count": 247,
   "metadata": {},
   "outputs": [
    {
     "name": "stdout",
     "output_type": "stream",
     "text": [
      "coste: 0.6931453805617429\n",
      "[array([0., 0., 0., 0., 0., 0., 0., 0., 0., 0., 0., 0., 0., 0., 0., 0., 0.,\n",
      "       0., 0., 0., 0., 0., 0., 0., 0., 0., 0., 0., 0., 0., 0., 0., 0., 0.,\n",
      "       0., 0., 0., 0., 0., 0., 0., 0., 0., 0., 0., 0., 0., 0., 0., 0., 0.,\n",
      "       0., 0., 0., 0., 0., 0., 0., 0., 0., 0., 0., 0., 0., 0., 0., 0., 0.,\n",
      "       0., 0., 0., 0., 0., 0., 0., 0., 0., 0., 0., 0., 0., 0., 0., 0., 0.,\n",
      "       0., 0., 0., 0., 0., 0., 0., 0., 0., 0., 0., 0., 0., 0., 0., 0., 0.,\n",
      "       0., 0., 0., 0., 0., 0., 0., 0., 0., 0., 0., 0., 0., 0., 0., 0., 0.,\n",
      "       0., 0., 0., 0., 0., 0., 0., 0., 0., 0., 0., 0., 0., 0., 0., 0., 0.,\n",
      "       0., 0., 0., 0., 0., 0., 0., 0., 0., 0., 0., 0., 0., 0., 0., 0., 0.,\n",
      "       0., 0., 0., 0., 0., 0., 0., 0., 0., 0., 0., 0., 0., 0., 0., 0., 0.,\n",
      "       0., 0., 0., 0., 0., 0., 0., 0., 0., 0., 0., 0., 0., 0., 0., 0., 0.,\n",
      "       0., 0., 0., 0., 0., 0., 0., 0., 0., 0., 0., 0., 0., 0., 0., 0., 0.,\n",
      "       0., 0., 0., 0., 0., 0., 0., 0., 0., 0., 0., 0., 0., 0., 0., 0., 0.,\n",
      "       0., 0., 0., 0., 0., 0., 0., 0., 0., 0., 0., 0., 0., 0., 0., 0., 0.,\n",
      "       0., 0., 0., 0., 0., 0., 0., 0., 0., 0., 0., 0., 0., 0., 0., 0., 0.,\n",
      "       0., 0., 0., 0., 0., 0., 0., 0., 0., 0., 0., 0., 0., 0., 0., 0., 0.,\n",
      "       0., 0., 0., 0., 0., 0., 0., 0., 0., 0., 0., 0., 0., 0., 0., 0., 0.,\n",
      "       0., 0., 0., 0., 0., 0., 0., 0., 0., 0., 0., 0., 0., 0., 0., 0., 0.,\n",
      "       0., 0., 0., 0., 0., 0., 0., 0., 0., 0., 0., 0., 0., 0., 0., 0., 0.,\n",
      "       0., 0., 0., 0., 0., 0., 0., 0., 0., 0., 0., 0., 0., 0., 0., 0., 0.,\n",
      "       0., 0., 0., 0., 0., 0., 0., 0., 0., 0., 0., 0., 0., 0., 0., 0., 0.,\n",
      "       0., 0., 0., 0., 0., 0., 0., 0., 0., 0., 0., 0., 0., 0., 0., 0., 0.,\n",
      "       0., 0., 0., 0., 0., 0., 0., 0., 0., 0., 0., 0., 0., 0., 0., 0., 0.,\n",
      "       0., 0., 0., 0., 0., 0., 0., 0., 0., 0.])]\n"
     ]
    }
   ],
   "source": [
    "prueba()"
   ]
  },
  {
   "cell_type": "code",
   "execution_count": 233,
   "metadata": {},
   "outputs": [],
   "source": [
    "def preparaFunciones(Lambda):\n",
    "    c = lambda Theta,X,Y : coste_reg(Theta,X,Y,Lambda)\n",
    "    gr = lambda Theta,X,Y : gradiente_reg(Theta,X,Y,Lambda)\n",
    "    \n",
    "    return (c,gr)"
   ]
  },
  {
   "cell_type": "code",
   "execution_count": 234,
   "metadata": {},
   "outputs": [],
   "source": [
    "def sigmoide(Z):\n",
    "    sigmoide = 1 / (1 + np.exp(-Z))\n",
    "    return sigmoide"
   ]
  },
  {
   "cell_type": "code",
   "execution_count": 235,
   "metadata": {},
   "outputs": [],
   "source": [
    "def normalizar(X):\n",
    "    mu = np.mean(X, axis=0)\n",
    "    sigma = np.std(X, axis=0)\n",
    "    X_norm = (X-mu)/sigma\n",
    "    return(X_norm, mu, sigma)"
   ]
  },
  {
   "cell_type": "code",
   "execution_count": 297,
   "metadata": {},
   "outputs": [],
   "source": [
    "def coste_reg(Theta,X,Y, Lambda):\n",
    "    c = coste(Theta,X,Y)\n",
    "    m = X.shape[0]\n",
    "    e = 0\n",
    "    \n",
    "    for t in range(1,len(Theta)):\n",
    "        e += Theta[t]**2\n",
    "        \n",
    "    return c + (Lambda/(2*m))*e\n",
    "\n",
    "def coste(Theta, X, Y):\n",
    "    G = sigmoide(np.dot(X, Theta))\n",
    "    sum1 = np.dot(np.ravel(Y), np.log(G))\n",
    "    sum2 = np.dot((1-np.ravel(Y)), np.log(1 - G + 1e-6))\n",
    "    return (-1 / X.shape[0]) * (sum1 + sum2)"
   ]
  },
  {
   "cell_type": "code",
   "execution_count": 238,
   "metadata": {},
   "outputs": [],
   "source": [
    "def gradiente_reg(Theta,X,Y,Lambda):\n",
    "    m = X.shape[0]\n",
    "    gr = gradiente(Theta,X,Y)\n",
    "    theta2 = (Lambda/m)*Theta\n",
    "    return (gr + theta2)\n",
    "\n",
    "def gradiente(Theta, X, Y):\n",
    "    m = X.shape[0]\n",
    "    G = sigmoide( np.matmul(X,Theta) )\n",
    "    gradiente  = (1 / len(Y)) * np.matmul(X.T, G - np.ravel(y))\n",
    "    return gradiente"
   ]
  },
  {
   "cell_type": "code",
   "execution_count": 296,
   "metadata": {},
   "outputs": [],
   "source": [
    "def optimiza_reg(X, y, Lambda):\n",
    "    c, gr = preparaFunciones(Lambda)\n",
    "    n = len(y)\n",
    "    X = np.hstack([np.ones([n,1]), X])\n",
    "    T = np.zeros(X.shape[1])\n",
    "\n",
    "    result = opt.fmin_tnc(func = c, x0 = T, fprime = gr, args = (X, y))\n",
    "    c_f = coste(result[0], X, y)\n",
    "    print(\"coste:\", c_f)\n",
    "    return result[0]"
   ]
  },
  {
   "cell_type": "markdown",
   "metadata": {},
   "source": [
    "## Parte 2: Redes neuronales"
   ]
  },
  {
   "cell_type": "code",
   "execution_count": 249,
   "metadata": {},
   "outputs": [],
   "source": [
    "datos = loadmat('ex3data1.mat')\n",
    "weights = loadmat('ex3weights.mat')\n",
    "theta1, theta2 = weights['Theta1'], weights['Theta2']"
   ]
  },
  {
   "cell_type": "code",
   "execution_count": 294,
   "metadata": {},
   "outputs": [],
   "source": [
    "def prueba_neurona(datos, cargas):\n",
    "    X = datos['X'] \n",
    "    Y = datos['y']\n",
    "    n = len(y)\n",
    "    theta1, theta2 = cargas['Theta1'], cargas['Theta2']\n",
    "    \n",
    "    X = np.hstack([np.ones([n,1]), X])\n",
    "    \n",
    "    Oculta = sigmoide(np.dot(X, theta1.T))\n",
    "    Oculta = np.hstack([np.ones([n,1]), Oculta])\n",
    "    \n",
    "    Resultado = sigmoide(np.dot(Oculta, theta2.T))\n",
    "    comparador = np.argmax(Resultado, axis = 1)\n",
    "    \n",
    "    return (sum(comparador == np.ravel(y-1))/n*100)\n",
    "    \n",
    "    "
   ]
  },
  {
   "cell_type": "code",
   "execution_count": 295,
   "metadata": {},
   "outputs": [
    {
     "data": {
      "text/plain": [
       "97.52"
      ]
     },
     "execution_count": 295,
     "metadata": {},
     "output_type": "execute_result"
    }
   ],
   "source": [
    "prueba_neurona(loadmat('ex3data1.mat'), loadmat('ex3weights.mat'))"
   ]
  }
 ],
 "metadata": {
  "kernelspec": {
   "display_name": "Python 3",
   "language": "python",
   "name": "python3"
  },
  "language_info": {
   "codemirror_mode": {
    "name": "ipython",
    "version": 3
   },
   "file_extension": ".py",
   "mimetype": "text/x-python",
   "name": "python",
   "nbconvert_exporter": "python",
   "pygments_lexer": "ipython3",
   "version": "3.8.3"
  }
 },
 "nbformat": 4,
 "nbformat_minor": 4
}
