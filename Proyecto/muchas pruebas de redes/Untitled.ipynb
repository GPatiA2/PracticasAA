{
 "cells": [
  {
   "cell_type": "code",
   "execution_count": 1,
   "id": "b1a0ae1c",
   "metadata": {},
   "outputs": [],
   "source": [
    "from creador_redes import *\n",
    "import loader as ld\n",
    "import fun_basicas as fun\n",
    "import matplotlib.pyplot as plt\n",
    "\n",
    "random_state = 2714\n",
    "INIT_EPSILON = 0.12\n",
    "\n",
    "Ex, Ey, Vx, Vy, Px, Py = ld.carga_Numpy(random_state)\n",
    "y_onehot = fun.one_hot(Ey, 4)\n",
    "\n",
    "\n",
    "Ex2, scaler = ld.normalizar(Ex)\n",
    "Vx2 = scaler.transform(Vx)\n",
    "Px2 = scaler.transform(Px)"
   ]
  },
  {
   "cell_type": "code",
   "execution_count": 6,
   "id": "fe339f44",
   "metadata": {},
   "outputs": [
    {
     "name": "stdout",
     "output_type": "stream",
     "text": [
      "(815,)\n",
      "(503,)\n",
      "(349,)\n",
      "(669,)\n",
      "validación = 41.95205479452055\n",
      "(774,)\n",
      "(499,)\n",
      "(344,)\n",
      "(719,)\n",
      "prueba = 40.02568493150685\n",
      "(610,)\n",
      "(562,)\n",
      "(598,)\n",
      "(566,)\n",
      "validación = 78.08219178082192\n",
      "(590,)\n",
      "(562,)\n",
      "(605,)\n",
      "(579,)\n",
      "prueba = 77.26883561643835\n",
      "(606,)\n",
      "(581,)\n",
      "(590,)\n",
      "(559,)\n",
      "validación = 77.44006849315068\n",
      "(589,)\n",
      "(567,)\n",
      "(581,)\n",
      "(599,)\n",
      "prueba = 78.8527397260274\n",
      "(591,)\n",
      "(593,)\n",
      "(597,)\n",
      "(555,)\n",
      "validación = 79.75171232876713\n",
      "(552,)\n",
      "(590,)\n",
      "(602,)\n",
      "(592,)\n",
      "prueba = 79.96575342465754\n",
      "(590,)\n",
      "(584,)\n",
      "(597,)\n",
      "(565,)\n",
      "validación = 81.54965753424658\n",
      "(593,)\n",
      "(557,)\n",
      "(581,)\n",
      "(605,)\n",
      "prueba = 82.06335616438356\n"
     ]
    },
    {
     "data": {
      "image/png": "[encoded data removed]",
      "text/plain": [
       "<Figure size 432x288 with 1 Axes>"
      ]
     },
     "metadata": {
      "needs_background": "light"
     },
     "output_type": "display_data"
    }
   ],
   "source": [
    "r = red_neuronal(2, [56,63,56], 0.12, Ex2.shape[1], 4)\n",
    "\n",
    "iteraciones = [100, 500, 1000, 1500, 2000]\n",
    "validaciones = []\n",
    "pruebas = []\n",
    "\n",
    "for i in range(len(iteraciones)):\n",
    "    p1, p2 = r.entrenar(Ex, y_onehot, Vx, Vy, Px, Py, 0.1, iteraciones[i], INIT_EPSILON)\n",
    "    validaciones.append(p1)\n",
    "    pruebas.append(p2)\n",
    "\n",
    "plt.figure()\n",
    "plt.title(\"red: {}, Lambda = {}\".format([56,63,56], 0.1))\n",
    "plt.plot(np.array(iteraciones), np.array(validaciones), label = 'validaciones' , Color = 'red')\n",
    "plt.plot(np.array(iteraciones), np.array(pruebas), label = 'pruebas' , Color = 'blue')\n",
    "plt.show()"
   ]
  },
  {
   "cell_type": "code",
   "execution_count": 8,
   "id": "83767a10",
   "metadata": {},
   "outputs": [
    {
     "name": "stdout",
     "output_type": "stream",
     "text": [
      "(531,)\n",
      "(978,)\n",
      "(186,)\n",
      "(641,)\n",
      "validación = 29.88013698630137\n",
      "(578,)\n",
      "(902,)\n",
      "(159,)\n",
      "(697,)\n",
      "prueba = 30.565068493150683\n",
      "(1024,)\n",
      "(364,)\n",
      "(337,)\n",
      "(611,)\n",
      "validación = 52.73972602739726\n",
      "(1027,)\n",
      "(322,)\n",
      "(327,)\n",
      "(660,)\n",
      "prueba = 55.39383561643836\n",
      "(646,)\n",
      "(579,)\n",
      "(574,)\n",
      "(537,)\n",
      "validación = 81.84931506849315\n",
      "(631,)\n",
      "(540,)\n",
      "(590,)\n",
      "(575,)\n",
      "prueba = 81.20719178082192\n",
      "(613,)\n",
      "(565,)\n",
      "(621,)\n",
      "(537,)\n",
      "validación = 81.76369863013699\n",
      "(604,)\n",
      "(538,)\n",
      "(616,)\n",
      "(578,)\n",
      "prueba = 83.60445205479452\n",
      "(615,)\n",
      "(591,)\n",
      "(605,)\n",
      "(525,)\n",
      "validación = 84.28938356164383\n",
      "(619,)\n",
      "(548,)\n",
      "(585,)\n",
      "(584,)\n",
      "prueba = 86.72945205479452\n"
     ]
    },
    {
     "data": {
      "image/png": "[encoded data removed]",
      "text/plain": [
       "<Figure size 432x288 with 1 Axes>"
      ]
     },
     "metadata": {
      "needs_background": "light"
     },
     "output_type": "display_data"
    }
   ],
   "source": [
    "r = red_neuronal(2, [56,63,56], 0.12, Ex2.shape[1], 4)\n",
    "\n",
    "iteraciones = [100, 500, 1000, 1500, 2000]\n",
    "validaciones = []\n",
    "pruebas = []\n",
    "\n",
    "for i in range(len(iteraciones)):\n",
    "    p1, p2 = r.entrenar(Ex2, y_onehot, Vx2, Vy, Px2, Py, 0.01, iteraciones[i], INIT_EPSILON)\n",
    "    validaciones.append(p1)\n",
    "    pruebas.append(p2)\n",
    "\n",
    "plt.figure()\n",
    "plt.title(\"red: {}, Lambda = {}\".format([56,63,56], 0.01))\n",
    "plt.plot(np.array(iteraciones), np.array(validaciones), label = 'validaciones' , Color = 'red')\n",
    "plt.plot(np.array(iteraciones), np.array(pruebas), label = 'pruebas' , Color = 'blue')\n",
    "plt.show()"
   ]
  }
 ],
 "metadata": {
  "kernelspec": {
   "display_name": "Python 3",
   "language": "python",
   "name": "python3"
  },
  "language_info": {
   "codemirror_mode": {
    "name": "ipython",
    "version": 3
   },
   "file_extension": ".py",
   "mimetype": "text/x-python",
   "name": "python",
   "nbconvert_exporter": "python",
   "pygments_lexer": "ipython3",
   "version": "3.8.3"
  }
 },
 "nbformat": 4,
 "nbformat_minor": 5
}
