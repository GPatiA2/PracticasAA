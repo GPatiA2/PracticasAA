{
 "cells": [
  {
   "cell_type": "code",
   "execution_count": 1,
   "id": "b107cd5f",
   "metadata": {},
   "outputs": [],
   "source": [
    "from creador_redes import *\n",
    "import loader as ld\n",
    "import fun_basicas as fun\n",
    "\n",
    "random_state = 1706\n",
    "INIT_EPSILON = 0.12"
   ]
  },
  {
   "cell_type": "code",
   "execution_count": 2,
   "id": "6a4dc627",
   "metadata": {},
   "outputs": [],
   "source": [
    "Ex, Ey, Vx, Vy, Px, Py = ld.carga_Numpy(random_state)\n",
    "y_onehot = fun.one_hot(Ey, 4)"
   ]
  },
  {
   "cell_type": "code",
   "execution_count": 3,
   "id": "926b559a",
   "metadata": {},
   "outputs": [
    {
     "name": "stdout",
     "output_type": "stream",
     "text": [
      "validación = 44.34931506849315\n",
      "prueba = 44.4777397260274\n"
     ]
    }
   ],
   "source": [
    "r = red_neuronal(2, [34], 0.12, Ex.shape[1], 4)\n",
    "\n",
    "r.entrenar(Ex, y_onehot, Vx, Vy, Px, Py, 0.1, 100, INIT_EPSILON)"
   ]
  },
  {
   "cell_type": "code",
   "execution_count": 4,
   "id": "316503f8",
   "metadata": {},
   "outputs": [
    {
     "name": "stdout",
     "output_type": "stream",
     "text": [
      "validación = 51.96917808219178\n",
      "prueba = 52.525684931506845\n"
     ]
    }
   ],
   "source": [
    "r = red_neuronal(2, [34, 17], 0.12, Ex.shape[1], 4)\n",
    "\n",
    "r.entrenar(Ex, y_onehot, Vx, Vy, Px, Py, 0.1, 100, INIT_EPSILON)"
   ]
  },
  {
   "cell_type": "code",
   "execution_count": 5,
   "id": "3769a54a",
   "metadata": {},
   "outputs": [
    {
     "name": "stdout",
     "output_type": "stream",
     "text": [
      "validación = 38.31335616438356\n",
      "prueba = 40.88184931506849\n"
     ]
    }
   ],
   "source": [
    "r = red_neuronal(2, [34, 17, 7], 0.12, Ex.shape[1], 4)\n",
    "\n",
    "r.entrenar(Ex, y_onehot, Vx, Vy, Px, Py, 0.1, 100, INIT_EPSILON)"
   ]
  },
  {
   "cell_type": "code",
   "execution_count": 6,
   "id": "aab59677",
   "metadata": {},
   "outputs": [
    {
     "name": "stdout",
     "output_type": "stream",
     "text": [
      "validación = 24.743150684931507\n",
      "prueba = 24.101027397260275\n"
     ]
    }
   ],
   "source": [
    "r = red_neuronal(2, [34, 25, 17, 7], 0.12, Ex.shape[1], 4)\n",
    "\n",
    "r.entrenar(Ex, y_onehot, Vx, Vy, Px, Py, 0.1, 100, INIT_EPSILON)"
   ]
  }
 ],
 "metadata": {
  "kernelspec": {
   "display_name": "Python 3",
   "language": "python",
   "name": "python3"
  },
  "language_info": {
   "codemirror_mode": {
    "name": "ipython",
    "version": 3
   },
   "file_extension": ".py",
   "mimetype": "text/x-python",
   "name": "python",
   "nbconvert_exporter": "python",
   "pygments_lexer": "ipython3",
   "version": "3.8.3"
  }
 },
 "nbformat": 4,
 "nbformat_minor": 5
}
