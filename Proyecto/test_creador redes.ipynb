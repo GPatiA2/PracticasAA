{
 "cells": [
  {
   "cell_type": "code",
   "execution_count": 1,
   "id": "b107cd5f",
   "metadata": {},
   "outputs": [],
   "source": [
    "from creador_redes import *\n",
    "import loader as ld\n",
    "import fun_basicas as fun\n",
    "\n",
    "random_state = 1706\n",
    "INIT_EPSILON = 0.12"
   ]
  },
  {
   "cell_type": "code",
   "execution_count": 2,
   "id": "6a4dc627",
   "metadata": {},
   "outputs": [],
   "source": [
    "Ex, Ey, Vx, Vy, Px, Py = ld.carga_Numpy(random_state)\n",
    "y_onehot = fun.one_hot(Ey, 4)"
   ]
  },
  {
   "cell_type": "code",
   "execution_count": 3,
   "id": "926b559a",
   "metadata": {},
   "outputs": [
    {
     "name": "stdout",
     "output_type": "stream",
     "text": [
      "validación = 44.34931506849315\n",
      "prueba = 44.4777397260274\n"
     ]
    }
   ],
   "source": [
    "r = red_neuronal(2, [34], 0.12, Ex.shape[1], 4)\n",
    "\n",
    "r.entrenar(Ex, y_onehot, Vx, Vy, Px, Py, 0.1, 100, INIT_EPSILON)"
   ]
  },
  {
   "cell_type": "code",
   "execution_count": 4,
   "id": "316503f8",
   "metadata": {},
   "outputs": [
    {
     "name": "stdout",
     "output_type": "stream",
     "text": [
      "validación = 51.96917808219178\n",
      "prueba = 52.525684931506845\n"
     ]
    }
   ],
   "source": [
    "r = red_neuronal(2, [34, 17], 0.12, Ex.shape[1], 4)\n",
    "\n",
    "r.entrenar(Ex, y_onehot, Vx, Vy, Px, Py, 0.1, 100, INIT_EPSILON)"
   ]
  },
  {
   "cell_type": "code",
   "execution_count": 5,
   "id": "3769a54a",
   "metadata": {},
   "outputs": [
    {
     "name": "stdout",
     "output_type": "stream",
     "text": [
      "validación = 38.31335616438356\n",
      "prueba = 40.88184931506849\n"
     ]
    }
   ],
   "source": [
    "r = red_neuronal(2, [34, 17, 7], 0.12, Ex.shape[1], 4)\n",
    "\n",
    "r.entrenar(Ex, y_onehot, Vx, Vy, Px, Py, 0.1, 100, INIT_EPSILON)"
   ]
  },
  {
   "cell_type": "code",
   "execution_count": 6,
   "id": "aab59677",
   "metadata": {},
   "outputs": [
    {
     "name": "stdout",
     "output_type": "stream",
     "text": [
      "validación = 24.743150684931507\n",
      "prueba = 24.101027397260275\n"
     ]
    }
   ],
   "source": [
    "r = red_neuronal(2, [34, 25, 17, 7], 0.12, Ex.shape[1], 4)\n",
    "\n",
    "r.entrenar(Ex, y_onehot, Vx, Vy, Px, Py, 0.1, 100, INIT_EPSILON)"
   ]
  },
  {
   "cell_type": "code",
   "execution_count": 4,
   "metadata": {},
   "outputs": [
    {
     "output_type": "stream",
     "name": "stdout",
     "text": [
      "validación = 24.743150684931507\nprueba = 24.101027397260275\n"
     ]
    }
   ],
   "source": [
    "r = red_neuronal(10, [10, 20, 30, 40, 50, 40, 30, 20, 10], 0.12, Ex.shape[1], 4)\n",
    "\n",
    "r.entrenar(Ex, y_onehot, Vx, Vy, Px, Py, 0.1, 1000, INIT_EPSILON)"
   ]
  },
  {
   "cell_type": "code",
   "execution_count": 6,
   "metadata": {},
   "outputs": [
    {
     "output_type": "stream",
     "name": "stdout",
     "text": [
      "validación = 24.743150684931507\nprueba = 24.101027397260275\n"
     ]
    }
   ],
   "source": [
    "r = red_neuronal(10, [10, 20, 30, 40, 100, 40, 30, 20, 10], 0.12, Ex.shape[1], 4)\n",
    "\n",
    "r.entrenar(Ex, y_onehot, Vx, Vy, Px, Py, 0.1, 1000, INIT_EPSILON)\n"
   ]
  },
  {
   "cell_type": "code",
   "execution_count": 7,
   "metadata": {},
   "outputs": [
    {
     "output_type": "stream",
     "name": "stdout",
     "text": [
      "validación = 24.743150684931507\nprueba = 24.101027397260275\n"
     ]
    }
   ],
   "source": [
    "r = red_neuronal(9, [100, 90, 80, 70, 60, 70, 80, 90, 100], 0.12, Ex.shape[1], 4)\n",
    "\n",
    "r.entrenar(Ex, y_onehot, Vx, Vy, Px, Py, 0.1, 1000, INIT_EPSILON)"
   ]
  },
  {
   "cell_type": "code",
   "execution_count": 8,
   "metadata": {},
   "outputs": [
    {
     "output_type": "stream",
     "name": "stdout",
     "text": [
      "validación = 24.743150684931507\nprueba = 24.101027397260275\n"
     ]
    }
   ],
   "source": [
    "r = red_neuronal(9, [100, 90, 80, 70, 60, 70, 80, 90, 100], 0.12, Ex.shape[1], 4)\n",
    "\n",
    "r.entrenar(Ex, y_onehot, Vx, Vy, Px, Py, 0.01, 1000, INIT_EPSILON)"
   ]
  },
  {
   "cell_type": "markdown",
   "id": "e61151b6",
   "metadata": {},
   "source": [
    "## prueba CheckNNGradient"
   ]
  },
  {
   "cell_type": "code",
   "execution_count": 2,
   "id": "1d0626e6",
   "metadata": {},
   "outputs": [
    {
     "name": "stdout",
     "output_type": "stream",
     "text": [
      "grad shape:  (38,)\n",
      "num grad shape:  (38,)\n"
     ]
    },
    {
     "data": {
      "text/plain": [
       "array([ 2.86006259e-07, -1.44926309e-08,  5.17625875e-08,  7.04249071e-08,\n",
       "       -3.26235469e-07,  5.95653303e-08, -1.21742581e-07, -1.91150149e-07,\n",
       "       -5.32065243e-07,  1.04927864e-07, -2.56773482e-07, -3.82463637e-07,\n",
       "       -3.06558803e-07,  3.85829526e-08, -1.04657968e-07, -1.51689812e-07,\n",
       "        2.23858079e-07, -3.65876015e-08,  7.74611560e-08,  1.20305060e-07,\n",
       "        8.74971631e-07,  4.50207454e-07,  4.00482634e-07,  4.47256173e-07,\n",
       "        4.39713644e-07,  5.27031399e-07,  9.12219686e-07,  5.53073506e-07,\n",
       "        3.42804977e-07,  4.81445995e-07,  5.05301518e-07,  4.87923142e-07,\n",
       "        1.14645184e-06,  5.89118625e-07,  4.08370178e-07,  7.14643129e-07,\n",
       "        4.95463758e-07,  5.42036173e-07])"
      ]
     },
     "execution_count": 2,
     "metadata": {},
     "output_type": "execute_result"
    }
   ],
   "source": [
    "from checkNNGradients import checkNNGradients\n",
    "\n",
    "r = red_neuronal(1, [5], 0.12, 3, 3)\n",
    "\n",
    "checkNNGradients (r.backprop , 0.1 ) "
   ]
  }
 ],
 "metadata": {
  "kernelspec": {
   "name": "python3",
   "display_name": "Python 3.8.3 64-bit ('base': conda)"
  },
  "language_info": {
   "codemirror_mode": {
    "name": "ipython",
    "version": 3
   },
   "file_extension": ".py",
   "mimetype": "text/x-python",
   "name": "python",
   "nbconvert_exporter": "python",
   "pygments_lexer": "ipython3",
   "version": "3.8.3"
  },
  "interpreter": {
   "hash": "3f90b2193be272a6e622dafe04c440e7a37e74d85af88b1276fac48d7214b481"
  }
 },
 "nbformat": 4,
 "nbformat_minor": 5
}