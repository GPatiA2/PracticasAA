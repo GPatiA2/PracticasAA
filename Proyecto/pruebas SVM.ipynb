{
 "cells": [
  {
   "cell_type": "code",
   "execution_count": 1,
   "metadata": {},
   "outputs": [],
   "source": [
    "import loader as ld\n",
    "import supportvm as svm\n",
    "random_state = 19999"
   ]
  },
  {
   "cell_type": "code",
   "execution_count": 2,
   "metadata": {},
   "outputs": [],
   "source": [
    "Ex, Ey, Vx, Vy, Px, Py = ld.carga_Numpy(random_state)"
   ]
  },
  {
   "cell_type": "code",
   "execution_count": 4,
   "metadata": {},
   "outputs": [
    {
     "name": "stdout",
     "output_type": "stream",
     "text": [
      "[[24.31506849 24.31506849 24.31506849 24.31506849 24.31506849 24.31506849\n",
      "  24.31506849 24.31506849]\n",
      " [24.31506849 24.31506849 24.31506849 24.31506849 24.31506849 24.31506849\n",
      "  24.31506849 24.31506849]\n",
      " [24.31506849 24.31506849 24.31506849 24.31506849 24.31506849 24.31506849\n",
      "  24.31506849 24.31506849]\n",
      " [24.31506849 24.31506849 24.31506849 24.31506849 24.31506849 24.31506849\n",
      "  24.31506849 29.83732877]\n",
      " [24.31506849 24.31506849 24.31506849 24.31506849 24.31506849 24.31506849\n",
      "  24.31506849 55.1369863 ]\n",
      " [24.31506849 24.31506849 24.31506849 24.31506849 24.31506849 24.31506849\n",
      "  24.31506849 58.21917808]\n",
      " [24.31506849 24.31506849 24.31506849 24.31506849 24.31506849 24.31506849\n",
      "  24.31506849 58.21917808]\n",
      " [24.31506849 24.31506849 24.31506849 24.31506849 24.31506849 24.31506849\n",
      "  24.31506849 58.21917808]]\n",
      "0.5826198630136986\n",
      "C = 3 , sigma = 30\n"
     ]
    },
    {
     "data": {
      "text/plain": [
       "(3, 30)"
      ]
     },
     "execution_count": 4,
     "metadata": {},
     "output_type": "execute_result"
    }
   ],
   "source": [
    "svm.evalua_Lambdas(Ex, Ey, Vx, Vy, Px, Py, [0.01, 0.03, 0.1, 0.3, 1, 3, 10, 30])"
   ]
  },
  {
   "cell_type": "code",
   "execution_count": 3,
   "metadata": {},
   "outputs": [
    {
     "name": "stdout",
     "output_type": "stream",
     "text": [
      "[[24.31506849 58.21917808 80.65068493 88.35616438 90.06849315 74.48630137]\n",
      " [24.31506849 58.21917808 80.65068493 88.27054795 89.46917808 82.44863014]\n",
      " [24.31506849 58.21917808 80.65068493 88.14212329 88.99828767 84.33219178]\n",
      " [24.31506849 58.21917808 80.65068493 88.3989726  88.78424658 86.17294521]\n",
      " [24.31506849 58.21917808 80.65068493 88.27054795 88.74143836 86.98630137]\n",
      " [24.31506849 58.21917808 80.65068493 88.27054795 88.74143836 89.34075342]]\n",
      "0.8934075342465754\n",
      "C = 10 , sigma = 100\n"
     ]
    },
    {
     "data": {
      "text/plain": [
       "(10, 100)"
      ]
     },
     "execution_count": 3,
     "metadata": {},
     "output_type": "execute_result"
    }
   ],
   "source": [
    "svm.evalua_Lambdas(Ex, Ey, Vx, Vy, Px, Py, [10, 30, 50, 80, 100, 300])"
   ]
  },
  {
   "cell_type": "code",
   "execution_count": 5,
   "metadata": {},
   "outputs": [
    {
     "name": "stdout",
     "output_type": "stream",
     "text": [
      "[[24.31506849 80.65068493 90.06849315 84.20376712 66.22431507 57.02054795]\n",
      " [24.31506849 80.65068493 88.99828767 88.69863014 78.72431507 72.00342466]\n",
      " [24.31506849 80.65068493 88.74143836 90.19691781 82.61986301 76.96917808]\n",
      " [24.31506849 80.65068493 88.82705479 89.98287671 85.40239726 81.80650685]\n",
      " [24.31506849 80.65068493 88.74143836 90.19691781 87.37157534 84.88869863]\n",
      " [24.31506849 80.65068493 88.74143836 90.15410959 88.01369863 85.61643836]]\n",
      "0.8972602739726028\n",
      "C = 100 , sigma = 200\n"
     ]
    },
    {
     "data": {
      "text/plain": [
       "(100, 200)"
      ]
     },
     "execution_count": 5,
     "metadata": {},
     "output_type": "execute_result"
    }
   ],
   "source": [
    "svm.evalua_Lambdas(Ex, Ey, Vx, Vy, Px, Py, [10, 50, 100, 200, 400, 500])"
   ]
  },
  {
   "cell_type": "code",
   "execution_count": 15,
   "metadata": {},
   "outputs": [
    {
     "name": "stdout",
     "output_type": "stream",
     "text": [
      "[[88.74143836 90.19691781 53.38184932 39.08390411 30.99315068]\n",
      " [88.82705479 89.98287671 59.67465753 42.25171233 32.49143836]\n",
      " [88.74143836 89.81164384 73.84417808 51.19863014 36.34417808]\n",
      " [88.74143836 89.46917808 79.45205479 55.82191781 38.05650685]\n",
      " [88.74143836 89.46917808 84.20376712 64.89726027 40.49657534]]\n",
      "0.8972602739726028\n",
      "C = 100 , sigma = 200\n"
     ]
    }
   ],
   "source": [
    "svm.evalua_Lambdas(Ex, Ey, Vx, Vy, Px, Py, [100, 200, 1000, 2000, 5000])"
   ]
  },
  {
   "cell_type": "code",
   "execution_count": 23,
   "metadata": {},
   "outputs": [
    {
     "name": "stdout",
     "output_type": "stream",
     "text": [
      "[[88.74143836 90.19691781 90.28253425 90.28253425]\n",
      " [88.69863014 90.19691781 89.81164384 90.02568493]\n",
      " [88.91267123 89.94006849 89.94006849 89.98287671]\n",
      " [88.91267123 89.94006849 89.94006849 89.85445205]]\n",
      "0.9011130136986302\n",
      "C = 100 , sigma = 175\n"
     ]
    }
   ],
   "source": [
    "svm.evalua_Lambdas(Ex, Ey, Vx, Vy, Px, Py, [100, 141, 175, 180])"
   ]
  },
  {
   "cell_type": "markdown",
   "metadata": {},
   "source": [
    "C = 100 , sigma = 175 los mejores valores que he visto mas pequeños"
   ]
  },
  {
   "cell_type": "code",
   "execution_count": 3,
   "metadata": {},
   "outputs": [
    {
     "name": "stdout",
     "output_type": "stream",
     "text": [
      "rbf acertados :  90.28253424657534\n",
      "poly acertados :  51.24143835616438\n",
      "sigmoid acertados :  19.90582191780822\n",
      "[90.28253425 51.24143836 19.90582192]\n",
      "rbf 0.9011130136986302\n"
     ]
    },
    {
     "data": {
      "text/plain": [
       "('rbf', 0.9011130136986302)"
      ]
     },
     "execution_count": 3,
     "metadata": {},
     "output_type": "execute_result"
    }
   ],
   "source": [
    "svm.evalua_Kernels(Ex, Ey, Vx, Vy, Px, Py, 100, 175)"
   ]
  }
 ],
 "metadata": {
  "kernelspec": {
   "display_name": "Python 3",
   "language": "python",
   "name": "python3"
  },
  "language_info": {
   "codemirror_mode": {
    "name": "ipython",
    "version": 3
   },
   "file_extension": ".py",
   "mimetype": "text/x-python",
   "name": "python",
   "nbconvert_exporter": "python",
   "pygments_lexer": "ipython3",
   "version": "3.8.3"
  }
 },
 "nbformat": 4,
 "nbformat_minor": 4
}
