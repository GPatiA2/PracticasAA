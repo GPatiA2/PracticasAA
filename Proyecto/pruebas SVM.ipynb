{
 "cells": [
  {
   "cell_type": "code",
   "execution_count": 1,
   "metadata": {},
   "outputs": [],
   "source": [
    "import numpy as np\n",
    "import matplotlib.pyplot as plt\n",
    "import sklearn.svm as skl\n",
    "from scipy.io import loadmat\n",
    "from sklearn.metrics import accuracy_score\n",
    "\n",
    "\n",
    "\n",
    "import loader as ld\n",
    "import regresion as rg\n",
    "import numpy as np\n",
    "import matplotlib.pyplot as plt\n",
    "random_state = 19999\n",
    "\n",
    "params = [0.01, 0.03, 0.1, 0.3, 1, 3, 10, 30]"
   ]
  },
  {
   "cell_type": "code",
   "execution_count": 2,
   "metadata": {},
   "outputs": [],
   "source": [
    "Ex, Ey, Vx, Vy, Px, Py = ld.carga_Numpy(random_state)"
   ]
  },
  {
   "cell_type": "code",
   "execution_count": 22,
   "metadata": {},
   "outputs": [],
   "source": [
    "scores = np.zeros((len(params), len(params)))\n",
    "res = list()\n",
    "\n",
    "for v in params:\n",
    "    \n",
    "    for sigma in params:\n",
    "        svm = skl.SVC(kernel = 'rbf', C = v, gamma = 1/(2*sigma**2))\n",
    "        svm.fit(Ex, Ey)\n",
    "        xpred = svm.predict(Vx)\n",
    "        acertados = sum(xpred == Vy) / xpred.shape[0] * 100\n",
    "        res.append(acertados)\n",
    "        scores[params.index(v), params.index(sigma)] = acertados "
   ]
  },
  {
   "cell_type": "code",
   "execution_count": 23,
   "metadata": {},
   "outputs": [
    {
     "name": "stdout",
     "output_type": "stream",
     "text": [
      "[[24.31506849 24.31506849 24.31506849 24.31506849 24.31506849 24.31506849\n",
      "  24.31506849 24.31506849]\n",
      " [24.31506849 24.31506849 24.31506849 24.31506849 24.31506849 24.31506849\n",
      "  24.31506849 24.31506849]\n",
      " [24.31506849 24.31506849 24.31506849 24.31506849 24.31506849 24.31506849\n",
      "  24.31506849 24.31506849]\n",
      " [24.31506849 24.31506849 24.31506849 24.31506849 24.31506849 24.31506849\n",
      "  24.31506849 29.83732877]\n",
      " [24.31506849 24.31506849 24.31506849 24.31506849 24.31506849 24.31506849\n",
      "  24.31506849 55.1369863 ]\n",
      " [24.31506849 24.31506849 24.31506849 24.31506849 24.31506849 24.31506849\n",
      "  24.31506849 58.21917808]\n",
      " [24.31506849 24.31506849 24.31506849 24.31506849 24.31506849 24.31506849\n",
      "  24.31506849 58.21917808]\n",
      " [24.31506849 24.31506849 24.31506849 24.31506849 24.31506849 24.31506849\n",
      "  24.31506849 58.21917808]]\n"
     ]
    }
   ],
   "source": [
    "print(scores)\n",
    "ind = np.where(scores == scores.max())"
   ]
  },
  {
   "cell_type": "code",
   "execution_count": null,
   "metadata": {},
   "outputs": [],
   "source": [
    "indp1 = ind[0][0]\n",
    "indp2 = ind[1][0]"
   ]
  },
  {
   "cell_type": "code",
   "execution_count": 24,
   "metadata": {},
   "outputs": [
    {
     "name": "stdout",
     "output_type": "stream",
     "text": [
      "0.5826198630136986\n",
      "C = 3 , sigma = 30\n"
     ]
    }
   ],
   "source": [
    "svm = skl.SVC(kernel = 'rbf', C = params[indp1], gamma = 1/(2*params[indp2]**2))\n",
    "svm.fit(Ex, Ey)\n",
    "print(accuracy_score(Py, svm.predict(Px)))\n",
    "\n",
    "print(\"C = {} , sigma = {}\".format(params[indp1],params[indp2]))"
   ]
  },
  {
   "cell_type": "code",
   "execution_count": null,
   "metadata": {},
   "outputs": [],
   "source": []
  },
  {
   "cell_type": "code",
   "execution_count": null,
   "metadata": {},
   "outputs": [],
   "source": []
  },
  {
   "cell_type": "code",
   "execution_count": null,
   "metadata": {},
   "outputs": [],
   "source": []
  },
  {
   "cell_type": "code",
   "execution_count": null,
   "metadata": {},
   "outputs": [],
   "source": []
  },
  {
   "cell_type": "code",
   "execution_count": null,
   "metadata": {},
   "outputs": [],
   "source": []
  },
  {
   "cell_type": "code",
   "execution_count": 12,
   "metadata": {},
   "outputs": [
    {
     "name": "stdout",
     "output_type": "stream",
     "text": [
      "[[24.31506849 58.21917808 80.65068493 88.35616438 90.06849315 74.48630137]\n",
      " [24.31506849 58.21917808 80.65068493 88.27054795 89.46917808 82.44863014]\n",
      " [24.31506849 58.21917808 80.65068493 88.14212329 88.99828767 84.33219178]\n",
      " [24.31506849 58.21917808 80.65068493 88.3989726  88.78424658 86.17294521]\n",
      " [24.31506849 58.21917808 80.65068493 88.27054795 88.74143836 86.98630137]\n",
      " [24.31506849 58.21917808 80.65068493 88.27054795 88.74143836 89.34075342]]\n",
      "0.8934075342465754\n",
      "C = 10 , sigma = 100\n"
     ]
    }
   ],
   "source": [
    "params = [10, 30, 50, 80, 100, 300]\n",
    "\n",
    "scores = np.zeros((len(params), len(params)))\n",
    "res = list()\n",
    "\n",
    "for v in params:\n",
    "    \n",
    "    for sigma in params:\n",
    "        svm = skl.SVC(kernel = 'rbf', C = v, gamma = 1/(2*sigma**2))\n",
    "        svm.fit(Ex, Ey)\n",
    "        xpred = svm.predict(Vx)\n",
    "        acertados = sum(xpred == Vy) / xpred.shape[0] * 100\n",
    "        res.append(acertados)\n",
    "        scores[params.index(v), params.index(sigma)] = acertados\n",
    "        \n",
    "print(scores)\n",
    "ind = np.where(scores == scores.max())\n",
    "\n",
    "indp1 = ind[0][0]\n",
    "indp2 = ind[1][0]\n",
    "\n",
    "\n",
    "svm = skl.SVC(kernel = 'rbf', C = params[indp1], gamma = 1/(2*params[indp2]**2))\n",
    "svm.fit(Ex, Ey)\n",
    "print(accuracy_score(Py, svm.predict(Px)))\n",
    "\n",
    "print(\"C = {} , sigma = {}\".format(params[indp1],params[indp2]))"
   ]
  },
  {
   "cell_type": "code",
   "execution_count": null,
   "metadata": {},
   "outputs": [],
   "source": []
  },
  {
   "cell_type": "code",
   "execution_count": null,
   "metadata": {},
   "outputs": [],
   "source": []
  },
  {
   "cell_type": "code",
   "execution_count": null,
   "metadata": {},
   "outputs": [],
   "source": []
  },
  {
   "cell_type": "code",
   "execution_count": null,
   "metadata": {},
   "outputs": [],
   "source": []
  },
  {
   "cell_type": "code",
   "execution_count": null,
   "metadata": {},
   "outputs": [],
   "source": []
  },
  {
   "cell_type": "code",
   "execution_count": 13,
   "metadata": {},
   "outputs": [
    {
     "name": "stdout",
     "output_type": "stream",
     "text": [
      "[[24.31506849 80.65068493 90.06849315 84.20376712 66.22431507 57.02054795]\n",
      " [24.31506849 80.65068493 88.99828767 88.69863014 78.72431507 72.00342466]\n",
      " [24.31506849 80.65068493 88.74143836 90.19691781 82.61986301 76.96917808]\n",
      " [24.31506849 80.65068493 88.82705479 89.98287671 85.40239726 81.80650685]\n",
      " [24.31506849 80.65068493 88.74143836 90.19691781 87.37157534 84.88869863]\n",
      " [24.31506849 80.65068493 88.74143836 90.15410959 88.01369863 85.61643836]]\n",
      "0.8972602739726028\n",
      "C = 100 , sigma = 200\n"
     ]
    }
   ],
   "source": [
    "params = [10, 50, 100, 200, 400, 500]\n",
    "\n",
    "scores = np.zeros((len(params), len(params)))\n",
    "res = list()\n",
    "\n",
    "for v in params:\n",
    "    \n",
    "    for sigma in params:\n",
    "        svm = skl.SVC(kernel = 'rbf', C = v, gamma = 1/(2*sigma**2))\n",
    "        svm.fit(Ex, Ey)\n",
    "        xpred = svm.predict(Vx)\n",
    "        acertados = sum(xpred == Vy) / xpred.shape[0] * 100\n",
    "        res.append(acertados)\n",
    "        scores[params.index(v), params.index(sigma)] = acertados\n",
    "        \n",
    "print(scores)\n",
    "ind = np.where(scores == scores.max())\n",
    "\n",
    "indp1 = ind[0][0]\n",
    "indp2 = ind[1][0]\n",
    "\n",
    "\n",
    "svm = skl.SVC(kernel = 'rbf', C = params[indp1], gamma = 1/(2*params[indp2]**2))\n",
    "svm.fit(Ex, Ey)\n",
    "print(accuracy_score(Py, svm.predict(Px)))\n",
    "\n",
    "print(\"C = {} , sigma = {}\".format(params[indp1],params[indp2]))"
   ]
  },
  {
   "cell_type": "code",
   "execution_count": null,
   "metadata": {},
   "outputs": [],
   "source": []
  },
  {
   "cell_type": "code",
   "execution_count": null,
   "metadata": {},
   "outputs": [],
   "source": []
  },
  {
   "cell_type": "code",
   "execution_count": null,
   "metadata": {},
   "outputs": [],
   "source": []
  },
  {
   "cell_type": "code",
   "execution_count": 15,
   "metadata": {},
   "outputs": [
    {
     "name": "stdout",
     "output_type": "stream",
     "text": [
      "[[88.74143836 90.19691781 53.38184932 39.08390411 30.99315068]\n",
      " [88.82705479 89.98287671 59.67465753 42.25171233 32.49143836]\n",
      " [88.74143836 89.81164384 73.84417808 51.19863014 36.34417808]\n",
      " [88.74143836 89.46917808 79.45205479 55.82191781 38.05650685]\n",
      " [88.74143836 89.46917808 84.20376712 64.89726027 40.49657534]]\n",
      "0.8972602739726028\n",
      "C = 100 , sigma = 200\n"
     ]
    }
   ],
   "source": [
    "params = [100, 200, 1000, 2000, 5000]\n",
    "\n",
    "scores = np.zeros((len(params), len(params)))\n",
    "res = list()\n",
    "\n",
    "for v in params:\n",
    "    \n",
    "    for sigma in params:\n",
    "        svm = skl.SVC(kernel = 'rbf', C = v, gamma = 1/(2*sigma**2))\n",
    "        svm.fit(Ex, Ey)\n",
    "        xpred = svm.predict(Vx)\n",
    "        acertados = sum(xpred == Vy) / xpred.shape[0] * 100\n",
    "        res.append(acertados)\n",
    "        scores[params.index(v), params.index(sigma)] = acertados\n",
    "        \n",
    "print(scores)\n",
    "ind = np.where(scores == scores.max())\n",
    "\n",
    "indp1 = ind[0][0]\n",
    "indp2 = ind[1][0]\n",
    "\n",
    "\n",
    "svm = skl.SVC(kernel = 'rbf', C = params[indp1], gamma = 1/(2*params[indp2]**2))\n",
    "svm.fit(Ex, Ey)\n",
    "print(accuracy_score(Py, svm.predict(Px)))\n",
    "\n",
    "print(\"C = {} , sigma = {}\".format(params[indp1],params[indp2]))"
   ]
  },
  {
   "cell_type": "code",
   "execution_count": null,
   "metadata": {},
   "outputs": [],
   "source": []
  },
  {
   "cell_type": "code",
   "execution_count": null,
   "metadata": {},
   "outputs": [],
   "source": []
  },
  {
   "cell_type": "code",
   "execution_count": null,
   "metadata": {},
   "outputs": [],
   "source": []
  },
  {
   "cell_type": "code",
   "execution_count": 23,
   "metadata": {},
   "outputs": [
    {
     "name": "stdout",
     "output_type": "stream",
     "text": [
      "[[88.74143836 90.19691781 90.28253425 90.28253425]\n",
      " [88.69863014 90.19691781 89.81164384 90.02568493]\n",
      " [88.91267123 89.94006849 89.94006849 89.98287671]\n",
      " [88.91267123 89.94006849 89.94006849 89.85445205]]\n",
      "0.9011130136986302\n",
      "C = 100 , sigma = 175\n"
     ]
    }
   ],
   "source": [
    "params = [100, 141, 175, 180]\n",
    "\n",
    "scores = np.zeros((len(params), len(params)))\n",
    "res = list()\n",
    "\n",
    "for v in params:\n",
    "    \n",
    "    for sigma in params:\n",
    "        svm = skl.SVC(kernel = 'rbf', C = v, gamma = 1/(2*sigma**2))\n",
    "        svm.fit(Ex, Ey)\n",
    "        xpred = svm.predict(Vx)\n",
    "        acertados = sum(xpred == Vy) / xpred.shape[0] * 100\n",
    "        res.append(acertados)\n",
    "        scores[params.index(v), params.index(sigma)] = acertados\n",
    "        \n",
    "print(scores)\n",
    "ind = np.where(scores == scores.max())\n",
    "\n",
    "indp1 = ind[0][0]\n",
    "indp2 = ind[1][0]\n",
    "\n",
    "\n",
    "svm = skl.SVC(kernel = 'rbf', C = params[indp1], gamma = 1/(2*params[indp2]**2))\n",
    "svm.fit(Ex, Ey)\n",
    "print(accuracy_score(Py, svm.predict(Px)))\n",
    "\n",
    "print(\"C = {} , sigma = {}\".format(params[indp1],params[indp2]))"
   ]
  },
  {
   "cell_type": "code",
   "execution_count": null,
   "metadata": {},
   "outputs": [],
   "source": []
  },
  {
   "cell_type": "markdown",
   "metadata": {},
   "source": [
    "C = 100 , sigma = 175 los mejores valores que he visto mas pequeños"
   ]
  },
  {
   "cell_type": "code",
   "execution_count": null,
   "metadata": {},
   "outputs": [],
   "source": []
  },
  {
   "cell_type": "code",
   "execution_count": null,
   "metadata": {},
   "outputs": [],
   "source": []
  },
  {
   "cell_type": "code",
   "execution_count": 24,
   "metadata": {},
   "outputs": [
    {
     "name": "stdout",
     "output_type": "stream",
     "text": [
      "90.28253424657534\n",
      "51.24143835616438\n",
      "19.90582191780822\n"
     ]
    }
   ],
   "source": [
    "kernels= ['rbf', 'poly', 'sigmoid']\n",
    "scores = np.zeros((len(kernels)))\n",
    "res = list()\n",
    "\n",
    "for k in kernels:\n",
    "    svm = skl.SVC(kernel = k, C = 100, gamma = 1/(2*175**2))\n",
    "    svm.fit(Ex, Ey)\n",
    "    xpred = svm.predict(Vx)\n",
    "    acertados = sum(xpred == Vy) / xpred.shape[0] * 100\n",
    "    print(acertados)\n",
    "    res.append(acertados)\n",
    "    scores[kernels.index(k)] = acertados "
   ]
  },
  {
   "cell_type": "code",
   "execution_count": 25,
   "metadata": {},
   "outputs": [
    {
     "name": "stdout",
     "output_type": "stream",
     "text": [
      "[90.28253425 51.24143836 19.90582192]\n"
     ]
    }
   ],
   "source": [
    "print(scores)\n",
    "ind = np.where(scores == scores.max())"
   ]
  },
  {
   "cell_type": "code",
   "execution_count": 26,
   "metadata": {},
   "outputs": [],
   "source": [
    "indpk = ind[0]"
   ]
  },
  {
   "cell_type": "code",
   "execution_count": 28,
   "metadata": {},
   "outputs": [
    {
     "name": "stdout",
     "output_type": "stream",
     "text": [
      "0.9011130136986302\n"
     ]
    }
   ],
   "source": [
    "svm = skl.SVC(kernel = 'rbf' , C = 100 , gamma = 1/(2*175**2))\n",
    "svm.fit(Ex, Ey)\n",
    "print(accuracy_score(Py, svm.predict(Px)))"
   ]
  }
 ],
 "metadata": {
  "kernelspec": {
   "display_name": "Python 3",
   "language": "python",
   "name": "python3"
  },
  "language_info": {
   "codemirror_mode": {
    "name": "ipython",
    "version": 3
   },
   "file_extension": ".py",
   "mimetype": "text/x-python",
   "name": "python",
   "nbconvert_exporter": "python",
   "pygments_lexer": "ipython3",
   "version": "3.8.3"
  }
 },
 "nbformat": 4,
 "nbformat_minor": 4
}
