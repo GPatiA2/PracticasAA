{
 "cells": [
  {
   "cell_type": "code",
   "execution_count": 24,
   "id": "7bf3ee4a",
   "metadata": {},
   "outputs": [],
   "source": [
    "from redes import *"
   ]
  },
  {
   "cell_type": "code",
   "execution_count": 25,
   "id": "98e0a68b",
   "metadata": {},
   "outputs": [
    {
     "data": {
      "text/plain": [
       "(7.257990117875999,\n",
       " array([-0.00161674,  0.00201248, -0.00020147, ...,  0.16536656,\n",
       "         0.15856192,  0.15523014]))"
      ]
     },
     "execution_count": 25,
     "metadata": {},
     "output_type": "execute_result"
    }
   ],
   "source": [
    "X, Y, _ = cargarDatos()\n",
    "\n",
    "Y = one_hot(Y, 4)\n",
    "\n",
    "num_entradas = X.shape[1]\n",
    "num_ocultas = 25\n",
    "num_etiquetas = 10\n",
    "\n",
    "INIT_EPSILON = 0.12\n",
    "\n",
    "theta1 = np.random.random((num_ocultas,(num_entradas + 1)))*(2*INIT_EPSILON) - INIT_EPSILON\n",
    "theta2 = np.random.random((num_etiquetas,(num_ocultas + 1)))*(2*INIT_EPSILON) - INIT_EPSILON\n",
    "\n",
    "params_rn = np.concatenate((np.ravel(theta1), np.ravel(theta2)))\n",
    "\n",
    "backprop (params_rn ,num_entradas ,num_ocultas , num_etiquetas , X, Y, 0.1)"
   ]
  },
  {
   "cell_type": "code",
   "execution_count": 23,
   "id": "f84550f5",
   "metadata": {},
   "outputs": [
    {
     "name": "stdout",
     "output_type": "stream",
     "text": [
      "15.542044870697037\n",
      "19.566706627847232\n",
      "29.362904606953244\n",
      "34.226751156019866\n",
      "38.25997602329166\n",
      "40.78609350916253\n",
      "43.94588114403151\n",
      "15.542044870697037\n",
      "24.35348518581949\n",
      "29.75680767254667\n",
      "34.320945367357425\n",
      "38.362733344750815\n",
      "40.71758862818976\n",
      "43.57766740880288\n",
      "15.542044870697037\n",
      "18.958725809213906\n",
      "27.641719472512417\n",
      "33.824284980304846\n",
      "36.67580065079637\n",
      "41.0686761431752\n",
      "43.64617228977565\n",
      "15.542044870697037\n",
      "18.804589827025175\n",
      "28.960438431238227\n",
      "33.84997431066964\n",
      "37.69481075526631\n",
      "42.4216475423874\n",
      "45.86401781126905\n"
     ]
    },
    {
     "data": {
      "image/png": "[encoded data removed]",
      "text/plain": [
       "<Figure size 432x288 with 1 Axes>"
      ]
     },
     "metadata": {
      "needs_background": "light"
     },
     "output_type": "display_data"
    }
   ],
   "source": [
    "from scipy.optimize import minimize\n",
    "\n",
    "X, y, _ = cargarDatos()\n",
    "\n",
    "\n",
    "y_onehot = one_hot(y, 4)\n",
    "\n",
    "\n",
    "input_size = X.shape[1]\n",
    "hidden_size = 25\n",
    "num_labels = 10\n",
    "iteraciones = np.arange(0,200,30)\n",
    "lambdas = [0.1, 1 , 5, 10]\n",
    "colores = ['r', 'b' , 'g', 'm']\n",
    "\n",
    "INIT_EPSILON = 0.12\n",
    "\n",
    "theta1 = np.random.random((hidden_size,(input_size + 1)))*(2*INIT_EPSILON) - INIT_EPSILON\n",
    "theta2 = np.random.random((num_labels,(hidden_size + 1)))*(2*INIT_EPSILON) - INIT_EPSILON\n",
    "\n",
    "params = np.concatenate((np.ravel(theta1), np.ravel(theta2)))\n",
    "\n",
    "plt.figure()\n",
    "\n",
    "i = 0\n",
    "\n",
    "for reg in lambdas:\n",
    "    percent = []\n",
    "    for iters in iteraciones:\n",
    "        fmin = minimize(fun=backprop, x0=params,\n",
    "                args=(input_size, hidden_size,\n",
    "                num_labels, X, y_onehot, reg),\n",
    "                method='TNC', jac=True,\n",
    "                options={'maxiter': iters})\n",
    "\n",
    "        theta1 = np.reshape(fmin.x[:hidden_size*(input_size + 1)],(hidden_size,(input_size + 1)))\n",
    "        theta2 = np.reshape(fmin.x[hidden_size * (input_size+1):],(num_labels,(hidden_size + 1)))\n",
    "\n",
    "        p = prueba_neurona(X, y, theta1, theta2)\n",
    "        print(p)\n",
    "        percent.append(p)\n",
    "    plt.plot(iteraciones, percent, c = colores[i] , label = ' lambda = {} '.format(reg))\n",
    "    i = i+1\n",
    "    \n",
    "plt.legend()\n",
    "plt.savefig('acierto_reg_iter.png')\n",
    "plt.show()"
   ]
  },
  {
   "cell_type": "markdown",
   "id": "98fe11e9",
   "metadata": {},
   "source": [
    "Esta configuracion no es la mejor de red neuronal pero funciona todo con los datos"
   ]
  }
 ],
 "metadata": {
  "kernelspec": {
   "display_name": "Python 3",
   "language": "python",
   "name": "python3"
  },
  "language_info": {
   "codemirror_mode": {
    "name": "ipython",
    "version": 3
   },
   "file_extension": ".py",
   "mimetype": "text/x-python",
   "name": "python",
   "nbconvert_exporter": "python",
   "pygments_lexer": "ipython3",
   "version": "3.8.3"
  }
 },
 "nbformat": 4,
 "nbformat_minor": 5
}
